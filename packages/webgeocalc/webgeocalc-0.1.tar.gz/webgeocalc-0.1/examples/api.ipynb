{
 "cells": [
  {
   "cell_type": "markdown",
   "metadata": {},
   "source": [
    "Python package for NAIF WebGeoCalc API\n",
    "======================================\n",
    "\n",
    "In december 2018, [JPL/NAIF](https://naif.jpl.nasa.gov/naif/webgeocalc.html)\n",
    "announced an **experimental**\n",
    "[API RESTful interface](https://naif.jpl.nasa.gov/naif/WebGeocalc_announcement.pdf)\n",
    "for their new \n",
    "[WebGeocalc server](https://wgc2.jpl.nasa.gov:8443/webgeocalc)\n",
    "(which make online SPICE calculations).\n",
    "[Documentation](https://wgc2.jpl.nasa.gov:8443/webgeocalc/documents/api-info.html)\n",
    "and [JavaScript examples](https://wgc2.jpl.nasa.gov:8443/webgeocalc/example/perform-calculation.html)\n",
    "are already available.\n",
    "\n",
    "This package is an **early attempt** to provide a Python interface to\n",
    "make SPICE calculation through this API.\n",
    "\n",
    "\n",
    "Disclaimer\n",
    "----------\n",
    "This project is not supported or endorsed by either JPL, NAIF or NASA.\n",
    "The code is provided *\"as is\"*, use at your own risk."
   ]
  },
  {
   "cell_type": "code",
   "execution_count": 1,
   "metadata": {},
   "outputs": [
    {
     "data": {
      "text/plain": [
       "'https://wgc2.jpl.nasa.gov:8443/webgeocalc/api'"
      ]
     },
     "execution_count": 1,
     "metadata": {},
     "output_type": "execute_result"
    }
   ],
   "source": [
    "from webgeocalc import API\n",
    "\n",
    "API.url"
   ]
  },
  {
   "cell_type": "code",
   "execution_count": 2,
   "metadata": {},
   "outputs": [
    {
     "data": {
      "text/plain": [
       "[<KernelSetDetails> Solar System Kernels (id: 1),\n",
       " <KernelSetDetails> Latest Leapseconds Kernel (id: 2),\n",
       " <KernelSetDetails> Latest Planetary Constants Kernel (id: 3),\n",
       " <KernelSetDetails> Ground Stations Kernels (id: 4),\n",
       " <KernelSetDetails> Cassini Huygens (id: 5),\n",
       " <KernelSetDetails> Clementine (id: 6),\n",
       " <KernelSetDetails> Dawn (id: 7),\n",
       " <KernelSetDetails> Deep Impact (Primary mission) (id: 8),\n",
       " <KernelSetDetails> Deep Impact (EPOXI mission) (id: 9),\n",
       " <KernelSetDetails> Deep Space 1 (id: 10),\n",
       " <KernelSetDetails> GRAIL (id: 11),\n",
       " <KernelSetDetails> Hayabusa (id: 12),\n",
       " <KernelSetDetails> JUNO (id: 13),\n",
       " <KernelSetDetails> Lunar Reconnaissance Orbiter (id: 14),\n",
       " <KernelSetDetails> MAVEN (id: 15),\n",
       " <KernelSetDetails> MER1 Rover (Opportunity) (id: 16),\n",
       " <KernelSetDetails> MER2 Rover (Spirit) (id: 17),\n",
       " <KernelSetDetails> MESSENGER (id: 18),\n",
       " <KernelSetDetails> Mars Express (id: 19),\n",
       " <KernelSetDetails> Mars Global Surveyor (id: 20),\n",
       " <KernelSetDetails> Mars Odyssey (id: 21),\n",
       " <KernelSetDetails> Mars Reconnaissance Orbiter (id: 22),\n",
       " <KernelSetDetails> MSL Rover (Curiosity) (id: 23),\n",
       " <KernelSetDetails> NEAR (id: 24),\n",
       " <KernelSetDetails> New Horizons (id: 25),\n",
       " <KernelSetDetails> OSIRIS-REx (id: 26),\n",
       " <KernelSetDetails> Rosetta (id: 27),\n",
       " <KernelSetDetails> Stardust (id: 28),\n",
       " <KernelSetDetails> Venus Climate Orbiter (id: 29),\n",
       " <KernelSetDetails> Venus Express (id: 30),\n",
       " <KernelSetDetails> Viking Orbiters (id: 31),\n",
       " <KernelSetDetails> LADEE (id: 32),\n",
       " <KernelSetDetails> SPICE Class -- CASSINI Remote Sensing Lesson Kernels (id: 33),\n",
       " <KernelSetDetails> SPICE Class -- ExoMars 2016 Remote Sensing Lesson Kernels (id: 34),\n",
       " <KernelSetDetails> SPICE Class -- In-situ Sensing Lesson Kernels (id: 35),\n",
       " <KernelSetDetails> SPICE Class -- Mars Express Geometric Event Finding Lesson Kernels (id: 36),\n",
       " <KernelSetDetails> SPICE Class -- ExoMars 2016 Geometric Event Finding Lesson Kernels (id: 37),\n",
       " <KernelSetDetails> SPICE Class -- Binary PCK Lesson Kernels (Moon) (id: 38),\n",
       " <KernelSetDetails> SPICE Class -- Binary PCK Lesson Kernels (Earth) (id: 39)]"
      ]
     },
     "execution_count": 2,
     "metadata": {},
     "output_type": "execute_result"
    }
   ],
   "source": [
    "kernels = API.kernel_sets() # /kernel-sets\n",
    "kernels"
   ]
  },
  {
   "cell_type": "code",
   "execution_count": 3,
   "metadata": {},
   "outputs": [
    {
     "data": {
      "text/plain": [
       "1"
      ]
     },
     "execution_count": 3,
     "metadata": {},
     "output_type": "execute_result"
    }
   ],
   "source": [
    "kernel = kernels[0]\n",
    "int(kernel) # kernelSetId"
   ]
  },
  {
   "cell_type": "code",
   "execution_count": 4,
   "metadata": {},
   "outputs": [
    {
     "data": {
      "text/plain": [
       "'Solar System Kernels'"
      ]
     },
     "execution_count": 4,
     "metadata": {},
     "output_type": "execute_result"
    }
   ],
   "source": [
    "str(kernel) # Caption"
   ]
  },
  {
   "cell_type": "code",
   "execution_count": 5,
   "metadata": {},
   "outputs": [
    {
     "data": {
      "text/plain": [
       "'Generic kernels for planets, satellites, and some asteroids covering from 1950-01-01 to 2050-01-01.'"
      ]
     },
     "execution_count": 5,
     "metadata": {},
     "output_type": "execute_result"
    }
   ],
   "source": [
    "kernel.description"
   ]
  },
  {
   "cell_type": "code",
   "execution_count": 6,
   "metadata": {},
   "outputs": [
    {
     "data": {
      "text/plain": [
       "dict_keys(['caption', 'sclkId', 'description', 'kernelSetId', 'missionId'])"
      ]
     },
     "execution_count": 6,
     "metadata": {},
     "output_type": "execute_result"
    }
   ],
   "source": [
    "kernel.keys()"
   ]
  },
  {
   "cell_type": "code",
   "execution_count": 7,
   "metadata": {},
   "outputs": [
    {
     "data": {
      "text/plain": [
       "dict_values(['Solar System Kernels', '0', 'Generic kernels for planets, satellites, and some asteroids covering from 1950-01-01 to 2050-01-01.', '1', 'gen'])"
      ]
     },
     "execution_count": 7,
     "metadata": {},
     "output_type": "execute_result"
    }
   ],
   "source": [
    "kernel.values()"
   ]
  }
 ],
 "metadata": {
  "kernelspec": {
   "display_name": "Python 3",
   "language": "python",
   "name": "python3"
  },
  "language_info": {
   "codemirror_mode": {
    "name": "ipython",
    "version": 3
   },
   "file_extension": ".py",
   "mimetype": "text/x-python",
   "name": "python",
   "nbconvert_exporter": "python",
   "pygments_lexer": "ipython3",
   "version": "3.6.6"
  }
 },
 "nbformat": 4,
 "nbformat_minor": 2
}
