{
 "cells": [
  {
   "cell_type": "markdown",
   "metadata": {},
   "source": [
    "# MinHash sketches on RNAseq, some code\n",
    "\n",
    "Contact: Titus Brown, titus@idyll.org\n",
    "\n",
    "Source code: [github.com/dib-lab/sourmash](http://github.com/dib-lab/sourmash) and [README](http://github.com/dib-lab/sourmash/blob/master/README.md)\n",
    "\n",
    "[MinHash sketch on RNAseq - a demonstration & some graphs](./demo/00-demo.ipynb)\n"
   ]
  }
 ],
 "metadata": {
  "kernelspec": {
   "display_name": "Python 2",
   "language": "python",
   "name": "python2"
  },
  "language_info": {
   "codemirror_mode": {
    "name": "ipython",
    "version": 2
   },
   "file_extension": ".py",
   "mimetype": "text/x-python",
   "name": "python",
   "nbconvert_exporter": "python",
   "pygments_lexer": "ipython2",
   "version": "2.7.10"
  }
 },
 "nbformat": 4,
 "nbformat_minor": 0
}
