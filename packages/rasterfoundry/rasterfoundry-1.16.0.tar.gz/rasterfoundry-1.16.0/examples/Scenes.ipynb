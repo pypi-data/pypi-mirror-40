{
 "cells": [
  {
   "cell_type": "markdown",
   "metadata": {},
   "source": [
    "# Scenes"
   ]
  },
  {
   "cell_type": "code",
   "execution_count": 1,
   "metadata": {
    "scrolled": true
   },
   "outputs": [],
   "source": [
    "from rasterfoundry.api import API\n",
    "api_token = '<your API token>'\n",
    "api = API(api_token=api_token)"
   ]
  },
  {
   "cell_type": "markdown",
   "metadata": {},
   "source": [
    "`api.get_scenes` allows you to query the Raster Foundry API for scenes."
   ]
  },
  {
   "cell_type": "code",
   "execution_count": 2,
   "metadata": {},
   "outputs": [],
   "source": [
    "scenes = api.get_scenes()"
   ]
  },
  {
   "cell_type": "code",
   "execution_count": 3,
   "metadata": {},
   "outputs": [
    {
     "data": {
      "text/plain": [
       "620588"
      ]
     },
     "execution_count": 3,
     "metadata": {},
     "output_type": "execute_result"
    }
   ],
   "source": [
    "scenes.count"
   ]
  },
  {
   "cell_type": "markdown",
   "metadata": {},
   "source": [
    "The types of most filters are obvious, but bounding box has special handling. You can query using a string, an iterable of coordinates `(xmin, ymin, xmax, ymax)`, or a shapely polygon. Note that if you use a shapely polygon, regardless of its actual coordinates, you'll query within the bounding box of the polygon, not just in the polygon's area.\n",
    "\n",
    "If you don't have shapely installed, you can install it in the last cell of this notebook."
   ]
  },
  {
   "cell_type": "code",
   "execution_count": 4,
   "metadata": {},
   "outputs": [],
   "source": [
    "from shapely.geometry import box\n",
    "bx_shp = box(*[float(x) for x in \"-81.65039062500001,30.524413269923986,-81.56250000000001,30.600093873550072\".split(',')])\n",
    "bx_iter = bx_shp.bounds\n",
    "bx_str = ','.join(str(x) for x in bx_iter)"
   ]
  },
  {
   "cell_type": "code",
   "execution_count": 5,
   "metadata": {},
   "outputs": [
    {
     "data": {
      "text/plain": [
       "121"
      ]
     },
     "execution_count": 5,
     "metadata": {},
     "output_type": "execute_result"
    }
   ],
   "source": [
    "from_shp = api.get_scenes(bbox=bx_shp)\n",
    "from_shp.count"
   ]
  },
  {
   "cell_type": "code",
   "execution_count": 6,
   "metadata": {},
   "outputs": [
    {
     "data": {
      "text/plain": [
       "121"
      ]
     },
     "execution_count": 6,
     "metadata": {},
     "output_type": "execute_result"
    }
   ],
   "source": [
    "from_iter = api.get_scenes(bbox=bx_iter)\n",
    "from_iter.count"
   ]
  },
  {
   "cell_type": "code",
   "execution_count": 7,
   "metadata": {},
   "outputs": [
    {
     "data": {
      "text/plain": [
       "121"
      ]
     },
     "execution_count": 7,
     "metadata": {},
     "output_type": "execute_result"
    }
   ],
   "source": [
    "from_str = api.get_scenes(bbox=bx_str)\n",
    "from_str.count"
   ]
  },
  {
   "cell_type": "markdown",
   "metadata": {},
   "source": [
    "So if we wanted to get all scenes intersecting a bounding box around Philadelphia with a cloud cover less than 50% but greater than 10% acquired in 2016..."
   ]
  },
  {
   "cell_type": "code",
   "execution_count": 8,
   "metadata": {},
   "outputs": [
    {
     "data": {
      "text/plain": [
       "179"
      ]
     },
     "execution_count": 8,
     "metadata": {},
     "output_type": "execute_result"
    }
   ],
   "source": [
    "from datetime import datetime\n",
    "bbox = box(-75.280266, 39.867004, 74.955763, 40.137992)\n",
    "philly_scenes_2016 = api.get_scenes(maxCloudCover=0.5,\n",
    "                               minCloudCover=0.1,\n",
    "                               bbox=bbox,\n",
    "                               minAcquisitionDatetime=datetime(2016, 1, 1).isoformat()+'Z',\n",
    "                               maxAcquisitionDatetime=datetime(2016, 12, 31).isoformat() + 'Z')\n",
    "philly_scenes_2016.count"
   ]
  },
  {
   "cell_type": "code",
   "execution_count": null,
   "metadata": {
    "collapsed": true
   },
   "outputs": [],
   "source": [
    "%%bash\n",
    "pip install shapely"
   ]
  }
 ],
 "metadata": {
  "kernelspec": {
   "display_name": "Python 2",
   "language": "python",
   "name": "python2"
  },
  "language_info": {
   "codemirror_mode": {
    "name": "ipython",
    "version": 2
   },
   "file_extension": ".py",
   "mimetype": "text/x-python",
   "name": "python",
   "nbconvert_exporter": "python",
   "pygments_lexer": "ipython2",
   "version": "2.7.12"
  }
 },
 "nbformat": 4,
 "nbformat_minor": 2
}
