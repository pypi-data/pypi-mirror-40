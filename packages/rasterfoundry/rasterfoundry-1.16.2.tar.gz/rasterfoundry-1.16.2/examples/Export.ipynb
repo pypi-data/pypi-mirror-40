{
 "cells": [
  {
   "cell_type": "markdown",
   "metadata": {},
   "source": [
    "# Exports\n",
    "\n",
    "This notebooks shows the steps on how we create an export using a project instance."
   ]
  },
  {
   "cell_type": "code",
   "execution_count": null,
   "metadata": {},
   "outputs": [],
   "source": [
    "from rasterfoundry.api import API\n",
    "refresh_token = '<your refresh token>'\n",
    "api = API(refresh_token=refresh_token)"
   ]
  },
  {
   "cell_type": "code",
   "execution_count": null,
   "metadata": {},
   "outputs": [],
   "source": [
    "api.projects"
   ]
  },
  {
   "cell_type": "markdown",
   "metadata": {},
   "source": [
    "## Create an export directly\n"
   ]
  },
  {
   "cell_type": "markdown",
   "metadata": {},
   "source": [
    "### Create a polygon as the mask for the export"
   ]
  },
  {
   "cell_type": "code",
   "execution_count": null,
   "metadata": {},
   "outputs": [],
   "source": [
    "from ipyleaflet import DrawControl\n",
    "\n",
    "project = api.projects[-1]\n",
    "m = project.get_map()\n",
    "\n",
    "dc = DrawControl()\n",
    "m.add_control(dc)\n",
    "project.add_to(m)\n",
    "m\n",
    "\n",
    "# Draw a polygon in the map below"
   ]
  },
  {
   "cell_type": "code",
   "execution_count": null,
   "metadata": {},
   "outputs": [],
   "source": [
    "def snap_to_360(x_coord):\n",
    "    \"\"\"Snap an x coordinate to [-180, 180]\n",
    "    \n",
    "    Coordinates coming back from the API for some projects can be\n",
    "    outside this range, and coordinates in the bbox outside this\n",
    "    range make the export API upset. When it's upset, it returns\n",
    "    an array with just a single 0 in it, which is not an accurate\n",
    "    representation of the project normally.\n",
    "    \"\"\"\n",
    "    return x_coord - round((x_coord + 180) / 360, 0) * 360\n",
    "\n",
    "def geom_to_bbox(geom):\n",
    "    coords = geom['geometry']['coordinates'][0]\n",
    "    min_x = snap_to_360(min([point[0] for point in coords]))\n",
    "    min_y = min([point[1] for point in coords])\n",
    "    max_x = snap_to_360(max([point[0] for point in coords]))\n",
    "    max_y = max([point[1] for point in coords])\n",
    "    return ','.join(map(str, [min_x, min_y, max_x, max_y]))\n",
    "\n",
    "bbox = geom_to_bbox(dc.last_draw)\n"
   ]
  },
  {
   "cell_type": "markdown",
   "metadata": {},
   "source": [
    "### Create an export through a project instance"
   ]
  },
  {
   "cell_type": "code",
   "execution_count": null,
   "metadata": {},
   "outputs": [],
   "source": [
    "project_export = project.create_export(bbox=bbox, zoom=8, raster_size=1000)"
   ]
  },
  {
   "cell_type": "markdown",
   "metadata": {},
   "source": [
    "### Wait until the export is finished"
   ]
  },
  {
   "cell_type": "code",
   "execution_count": null,
   "metadata": {},
   "outputs": [],
   "source": [
    "completed_export = project_export.wait_for_completion()\n",
    "# it will say 'EXPORTED' as the output of this block if the export is finished\n",
    "completed_export.export_status"
   ]
  },
  {
   "cell_type": "code",
   "execution_count": null,
   "metadata": {},
   "outputs": [],
   "source": [
    "# When the export is done, we will get a list of download URLs\n",
    "project_export.files"
   ]
  },
  {
   "cell_type": "markdown",
   "metadata": {},
   "source": [
    "### Download and plot the export\n",
    "\n",
    "Note: this example requires\n",
    "[`numpy`](http://www.numpy.org/),\n",
    "[`matplotlib`](http://matplotlib.org/), and a fairly recent version of\n",
    "[`rasterio`](https://mapbox.github.io/rasterio/).\n",
    "\n",
    "If you don't have them, you can run the cell at the bottom of this notebook,\n",
    "provided your pip installation directory is writable."
   ]
  },
  {
   "cell_type": "code",
   "execution_count": null,
   "metadata": {},
   "outputs": [],
   "source": [
    "from rasterio.io import MemoryFile\n",
    "import matplotlib.pyplot as plt\n",
    "\n",
    "data = project_export.download_file_bytes()\n",
    "\n",
    "with MemoryFile(data) as memfile:\n",
    "    with memfile.open() as dataset:\n",
    "        plt.imshow(dataset.read(1), cmap='viridis')\n",
    "        \n",
    "plt.show()"
   ]
  },
  {
   "cell_type": "markdown",
   "metadata": {},
   "source": [
    "# Installs"
   ]
  },
  {
   "cell_type": "code",
   "execution_count": null,
   "metadata": {},
   "outputs": [],
   "source": [
    "%%bash\n",
    "pip install rasterio==1.0a12 matplotlib"
   ]
  }
 ],
 "metadata": {
  "kernelspec": {
   "display_name": "Python 2",
   "language": "python",
   "name": "python2"
  },
  "language_info": {
   "codemirror_mode": {
    "name": "ipython",
    "version": 2
   },
   "file_extension": ".py",
   "mimetype": "text/x-python",
   "name": "python",
   "nbconvert_exporter": "python",
   "pygments_lexer": "ipython2",
   "version": "2.7.14"
  }
 },
 "nbformat": 4,
 "nbformat_minor": 2
}
