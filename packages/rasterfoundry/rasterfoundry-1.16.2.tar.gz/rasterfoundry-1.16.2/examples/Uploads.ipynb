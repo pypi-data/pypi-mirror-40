{
 "cells": [
  {
   "cell_type": "markdown",
   "metadata": {},
   "source": [
    "# Uploading imagery"
   ]
  },
  {
   "cell_type": "code",
   "execution_count": null,
   "metadata": {},
   "outputs": [],
   "source": [
    "from rasterfoundry.api import API\n",
    "from rasterfoundry.models.upload import Upload\n",
    "refresh_token = '<your refresh token>'\n",
    "api = API(refresh_token=refresh_token)"
   ]
  },
  {
   "cell_type": "markdown",
   "metadata": {},
   "source": [
    "The python client makes it easy to upload imagery to Raster Foundry\n",
    "from a variety of sources. There are three ways Raster Foundry can\n",
    "import data -- from local files, from S3, or from the Planet Labs API.\n",
    "\n",
    "This notebook will walk through creating uploads from local files.\n",
    "\n",
    "You'll need to make sure that Raster Foundry has permission to read from\n",
    "the bucket. This is easy using the `aws` module:"
   ]
  },
  {
   "cell_type": "code",
   "execution_count": null,
   "metadata": {},
   "outputs": [],
   "source": [
    "from rasterfoundry.aws import s3\n",
    "bucket_name = '<your bucket name here>'\n",
    "s3.authorize_bucket(bucket_name)"
   ]
  },
  {
   "cell_type": "markdown",
   "metadata": {},
   "source": [
    "You'll also need a little bit more information about the upload you're planning:\n",
    "\n",
    "- the path to your data (as a glob string or as a list)\n",
    "- the id of the datasource to link the upload to\n",
    "- your organization id\n",
    "- optionally a project id\n",
    "\n",
    "For this example, I'll use the UAV 3 Band datasource. You can browse more\n",
    "datasources in the Raster Foundry web application under `Imports`."
   ]
  },
  {
   "cell_type": "code",
   "execution_count": null,
   "metadata": {
    "collapsed": true
   },
   "outputs": [],
   "source": [
    "# id for UAV 3 Band datasource\n",
    "datasource_id = 'c14c8e97-ba85-4677-ac9c-069cfef1f0b1'\n",
    "source_files = 'path/to/data/*.tif'\n",
    "# or:\n",
    "# source_files = ['path1', 'path2', 'path3', ...]"
   ]
  },
  {
   "cell_type": "markdown",
   "metadata": {},
   "source": [
    "Fill in your organization id below and desired S3 bucket and prefix below (you can just reuse `bucket_name` if you used it above):"
   ]
  },
  {
   "cell_type": "code",
   "execution_count": null,
   "metadata": {
    "collapsed": true
   },
   "outputs": [],
   "source": [
    "organization_id = ''\n",
    "s3_bucket = '' or bucket_name\n",
    "s3_prefix = 'raster-foundry-imagery'"
   ]
  },
  {
   "cell_type": "markdown",
   "metadata": {},
   "source": [
    "If you leave `dry_run=True`, this won't actually upload the files to S3. This is useful if they're already there, or if you're just experimenting. If you'd like to upload the files to S3, either remove `dry_run` or set it to `False`."
   ]
  },
  {
   "cell_type": "code",
   "execution_count": null,
   "metadata": {},
   "outputs": [],
   "source": [
    "uc = Upload.upload_create_from_files(\n",
    "    datasource=datasource_id,\n",
    "    organization=organization_id,\n",
    "    paths_to_tifs=source_files,\n",
    "    dest_bucket=s3_bucket,\n",
    "    dest_prefix=s3_prefix,\n",
    "    dry_run=True\n",
    ")\n",
    "uc"
   ]
  },
  {
   "cell_type": "markdown",
   "metadata": {},
   "source": [
    "You can then `POST` your upload to kick off processing:"
   ]
  },
  {
   "cell_type": "code",
   "execution_count": null,
   "metadata": {},
   "outputs": [],
   "source": [
    "Upload.create(api, uc)"
   ]
  }
 ],
 "metadata": {
  "kernelspec": {
   "display_name": "Python 2",
   "language": "python",
   "name": "python2"
  },
  "language_info": {
   "codemirror_mode": {
    "name": "ipython",
    "version": 2
   },
   "file_extension": ".py",
   "mimetype": "text/x-python",
   "name": "python",
   "nbconvert_exporter": "python",
   "pygments_lexer": "ipython2",
   "version": "2.7.14"
  }
 },
 "nbformat": 4,
 "nbformat_minor": 2
}
