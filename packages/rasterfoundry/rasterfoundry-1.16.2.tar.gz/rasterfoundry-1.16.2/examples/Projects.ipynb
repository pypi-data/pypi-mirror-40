{
 "cells": [
  {
   "cell_type": "markdown",
   "metadata": {},
   "source": [
    "# Interacting with projects"
   ]
  },
  {
   "cell_type": "code",
   "execution_count": null,
   "metadata": {},
   "outputs": [],
   "source": [
    "from rasterfoundry.api import API\n",
    "refresh_token = '<your refresh token>'\n",
    "api = API(refresh_token=refresh_token)"
   ]
  },
  {
   "cell_type": "markdown",
   "metadata": {},
   "source": [
    "## List projects\n",
    "\n",
    "If you have access to any projects, `api.projects` will return them as a list."
   ]
  },
  {
   "cell_type": "code",
   "execution_count": null,
   "metadata": {},
   "outputs": [],
   "source": [
    "projects = api.projects\n",
    "projects"
   ]
  },
  {
   "cell_type": "markdown",
   "metadata": {},
   "source": [
    "## Display a project\n",
    "\n",
    "You can choose one of your projects with ingested scenes and add it to a leaflet map\n",
    "in the browser."
   ]
  },
  {
   "cell_type": "code",
   "execution_count": null,
   "metadata": {},
   "outputs": [],
   "source": [
    "# Change the index in projects[3] to a value within your list of projects\n",
    "project1 = projects[3]\n",
    "m = project1.get_map()\n",
    "project1.add_to(m)\n",
    "m"
   ]
  },
  {
   "cell_type": "markdown",
   "metadata": {},
   "source": [
    "## Compare two projects\n",
    "\n",
    "If you have two projects with ingested scenes and in the same area, you can compare them with a slider."
   ]
  },
  {
   "cell_type": "code",
   "execution_count": null,
   "metadata": {},
   "outputs": [],
   "source": [
    "# Change the index in projects[4] to a value within your list of projects\n",
    "project2 = projects[4]\n",
    "m2 = project2.get_map()\n",
    "project1.compare(project2, m2)\n",
    "m2"
   ]
  },
  {
   "cell_type": "markdown",
   "metadata": {},
   "source": [
    "## Project export\n",
    "\n",
    "### Synchronous export with the tile server\n",
    "\n",
    "Synchronous export is good when your project doesn't cover a large\n",
    "area, or when you don't need a high zoom level in the resulting\n",
    "geotiff.\n",
    "\n",
    "#### Export as PNG"
   ]
  },
  {
   "cell_type": "code",
   "execution_count": null,
   "metadata": {
    "scrolled": true
   },
   "outputs": [],
   "source": [
    "from IPython.display import Image\n",
    "project = api.projects[3]\n",
    "bbox = '-121.726057,37.278423,-121.231672,37.377250'\n",
    "Image(project.png(bbox))"
   ]
  },
  {
   "cell_type": "code",
   "execution_count": null,
   "metadata": {},
   "outputs": [],
   "source": [
    "Image(project.png(bbox, zoom=15))"
   ]
  },
  {
   "cell_type": "markdown",
   "metadata": {},
   "source": [
    "#### Export as GeoTIFF\n",
    "\n",
    "#### Display in the notebook\n",
    "\n",
    "Note: this example requires\n",
    "[`numpy`](http://www.numpy.org/),\n",
    "[`matplotlib`](http://matplotlib.org/), and a fairly recent version of\n",
    "[`rasterio`](https://mapbox.github.io/rasterio/).\n",
    "\n",
    "If you don't have them, you can run the cell at the bottom of this notebook,\n",
    "provided your pip installation directory is writable."
   ]
  },
  {
   "cell_type": "code",
   "execution_count": null,
   "metadata": {},
   "outputs": [],
   "source": [
    "from rasterio.io import MemoryFile\n",
    "import matplotlib.pyplot as plt\n",
    "project = api.projects[3]\n",
    "bbox = '-121.726057,37.278423,-121.231672,37.377250'\n",
    "thumbnail = project.geotiff(bbox, zoom=10)\n",
    "\n",
    "with MemoryFile(thumbnail) as memfile:\n",
    "    with memfile.open() as dataset:\n",
    "        plt.imshow(dataset.read(1), cmap='RdBu')\n",
    "        \n",
    "plt.show()"
   ]
  },
  {
   "cell_type": "markdown",
   "metadata": {},
   "source": [
    "#### Save as a file"
   ]
  },
  {
   "cell_type": "code",
   "execution_count": null,
   "metadata": {},
   "outputs": [],
   "source": [
    "project = api.projects[3]\n",
    "bbox = '-121.726057,37.278423,-121.231672,37.377250'\n",
    "data = project.geotiff(bbox, zoom=17)\n",
    "with open('sample.tiff', 'wb') as outf:\n",
    "    outf.write(data)"
   ]
  },
  {
   "cell_type": "markdown",
   "metadata": {},
   "source": [
    "### Asynchronous export\n",
    "\n",
    "Asynchronous export is good when you have a large project, or when you need a high\n",
    "zoom level in the resulting geotiff. Creating an asynchronous export requires only a\n",
    "bbox and zoom level for this project. Created exports run remotely. For examples of what\n",
    "you can do with exports, check out the [Exports](./Export.ipynb) notebook."
   ]
  },
  {
   "cell_type": "code",
   "execution_count": null,
   "metadata": {},
   "outputs": [],
   "source": [
    "export = project.create_export(bbox, zoom=10)"
   ]
  },
  {
   "cell_type": "markdown",
   "metadata": {},
   "source": [
    "# Installs"
   ]
  },
  {
   "cell_type": "code",
   "execution_count": null,
   "metadata": {},
   "outputs": [],
   "source": [
    "%%bash\n",
    "pip install numpy matplotlib rasterio==1.0a12"
   ]
  }
 ],
 "metadata": {
  "kernelspec": {
   "display_name": "Python 2",
   "language": "python",
   "name": "python2"
  },
  "language_info": {
   "codemirror_mode": {
    "name": "ipython",
    "version": 2
   },
   "file_extension": ".py",
   "mimetype": "text/x-python",
   "name": "python",
   "nbconvert_exporter": "python",
   "pygments_lexer": "ipython2",
   "version": "2.7.12"
  }
 },
 "nbformat": 4,
 "nbformat_minor": 2
}
