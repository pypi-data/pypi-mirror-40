{
 "cells": [
  {
   "cell_type": "markdown",
   "metadata": {},
   "source": [
    "## Purpose: simple problem with errors in both x and y.\n",
    "\n",
    "In problems with errors in xdata and ydata the positions of all the xdata need to be optimized too. So we have an extra set of parameters that not actually are part of the model to be fitted. These kind of parameters are called nuisance parameters. \n",
    "\n",
    "These kind of problems can be solved with NestedSampler using the ErrorsInXandYProblem in stead of the default ClassicProblem.\n",
    "\n",
    "Gull (1989) proved that for linear models the optimal solution is found by minimizing the perpendicular distances of the datapoints to the line.\n",
    "\n",
    "Demonstration: \n",
    "    1. Linear Model of artificial data\n",
    "    2. Parameter fit with errors in x and y\n",
    "\n",
    "Author: Do Kester\n"
   ]
  },
  {
   "cell_type": "markdown",
   "metadata": {},
   "source": [
    "Import classes"
   ]
  },
  {
   "cell_type": "code",
   "execution_count": 1,
   "metadata": {},
   "outputs": [],
   "source": [
    "import numpy as numpy\n",
    "import math\n",
    "\n",
    "from BayesicFitting import PolynomialModel\n",
    "\n",
    "from BayesicFitting import NestedSampler\n",
    "from BayesicFitting import ErrorsInXandYProblem\n",
    "from BayesicFitting import GaussPrior\n",
    "from BayesicFitting import UniformPrior\n",
    "from BayesicFitting import Tools\n",
    "from BayesicFitting import formatter as fmt\n",
    "from BayesicFitting import plotFit\n",
    "import matplotlib.pyplot as plt\n",
    "import matplotlib.gridspec as gridspec\n",
    "\n",
    "%matplotlib osx"
   ]
  },
  {
   "cell_type": "markdown",
   "metadata": {},
   "source": [
    "Define the constants of the linear relation. "
   ]
  },
  {
   "cell_type": "code",
   "execution_count": 2,
   "metadata": {},
   "outputs": [],
   "source": [
    "# define some constants\n",
    "N = 41\n",
    "b0 = 1.0            # offset of background\n",
    "b1 = 0.8            # slope of background\n",
    "\n",
    "sig = 0.2"
   ]
  },
  {
   "cell_type": "markdown",
   "metadata": {},
   "source": [
    "Make a 1st-degree polynomial"
   ]
  },
  {
   "cell_type": "code",
   "execution_count": 3,
   "metadata": {},
   "outputs": [],
   "source": [
    "xm = numpy.linspace( -2.0, 5.0, N, dtype=float )\n",
    "ym = b0 + b1 * xm\n",
    "\n",
    "numpy.random.seed( 1308 )\n",
    "y = ym + sig * numpy.random.randn( N )\n",
    "x = xm + sig * numpy.random.randn( N )"
   ]
  },
  {
   "cell_type": "markdown",
   "metadata": {},
   "source": [
    "Define the model and define the limits on the model parameters"
   ]
  },
  {
   "cell_type": "code",
   "execution_count": 4,
   "metadata": {},
   "outputs": [],
   "source": [
    "mdl = PolynomialModel( 1 )\n",
    "mdl.setLimits( -10, 10 )\n"
   ]
  },
  {
   "cell_type": "markdown",
   "metadata": {},
   "source": [
    "We need to set a specific Problem in this case: ErrorsInXandYProblem. It adds N extra parameters to the list, one for each datapoint present. These extra (nuisance) parameters need Priors. The same Prior for all, but centered on each of the x-points.\n",
    "The ErrorsInXandYProblem automatically enlists both the GalileanEngine and the GibbsEngine. The latter might be more efficient in moving the extra parameters around. They are all independent of each other and GibbsEngine tries to move the parameters one at a time."
   ]
  },
  {
   "cell_type": "code",
   "execution_count": 5,
   "metadata": {},
   "outputs": [],
   "source": [
    "prior = UniformPrior( limits=[-1,1] )\n",
    "problem = ErrorsInXandYProblem( mdl, x, y, prior=prior )"
   ]
  },
  {
   "cell_type": "markdown",
   "metadata": {},
   "source": [
    "Invoke the NestedSampler with the problem just instantiated. The limits in the initialisation of NS are passed to the (Jeffreys)Prior of the scale hyperparameter in the (Gauss)Errordistribution. \n",
    "We want to do an extra long run as at the default end (=2.0) the information, H, is not yet completely stabilised."
   ]
  },
  {
   "cell_type": "code",
   "execution_count": 6,
   "metadata": {
    "scrolled": true
   },
   "outputs": [
    {
     "name": "stdout",
     "output_type": "stream",
     "text": [
      "Fit all parameters of\n",
      "  Polynomial: f( x:p ) = p_0 + p_1 * x\n",
      "Using a Gauss error distribution with with unknown scale\n",
      "Moving the walkers with   GalileanEngine  GibbsEngine\n",
      "Using no threads.\n",
      "Iteration   logZ        H     LowL     npar    parameters\n",
      "       0 -1291873.8      4.6 -1291869.2     44  [   -8.182   -9.957   -1.680   -1.758   -2.347 ...]\n",
      "     100 -17601.3      5.6 -17595.6     44  [    2.440    2.063   -1.512   -2.907   -1.281 ...]\n",
      "     200  -5391.2      6.6  -5384.6     44  [    0.566    2.180   -2.211   -1.700   -0.847 ...]\n",
      "     300  -1519.3      7.3  -1511.8     44  [   -8.174    2.435   -1.183   -0.995   -0.536 ...]\n",
      "     400   -645.0      8.6   -636.4     44  [    0.151   -0.280   -2.431   -1.287   -1.003 ...]\n",
      "     500   -286.1      8.8   -276.8     44  [    1.717    1.100   -1.569   -2.567   -0.745 ...]\n",
      "     600   -171.5      9.2   -161.9     44  [    1.519    0.117   -1.095   -2.285   -0.686 ...]\n",
      "     700   -116.6      9.7   -105.8     44  [    1.845    0.688   -1.461   -2.015   -2.170 ...]\n",
      "     800    -88.9      9.5    -78.5     44  [    0.113    0.784   -2.202   -2.119   -1.141 ...]\n",
      "     900    -76.1     10.4    -64.6     44  [    1.604    0.702   -1.516   -1.159   -0.592 ...]\n",
      "    1000    -68.9     10.5    -57.6     44  [    1.274    0.633   -1.839   -2.892   -1.730 ...]\n",
      "    1100    -66.0     10.7    -54.1     44  [    1.270    0.710   -2.232   -2.157   -0.595 ...]\n",
      "    1200    -64.0     11.2    -51.6     44  [    1.622    0.544   -2.779   -1.625   -1.566 ...]\n",
      "    1300    -62.9     11.5    -50.0     44  [    1.059    0.655   -1.501   -1.740   -0.490 ...]\n",
      "    1400    -62.2     11.7    -48.9     44  [    1.147    0.573   -1.611   -2.336   -1.186 ...]\n",
      "    1500    -61.8     12.1    -47.8     44  [    1.103    0.614   -2.780   -1.457   -1.510 ...]\n",
      "    1600    -61.5     12.4    -46.8     44  [    0.858    0.721   -2.711   -1.449   -1.525 ...]\n",
      "    1700    -61.3     12.7    -45.9     44  [    0.693    0.799   -1.530   -1.818   -1.532 ...]\n",
      "    1800    -61.1     13.1    -44.8     44  [    1.176    0.762   -2.169   -2.495   -2.268 ...]\n",
      "    1900    -60.9     13.4    -44.1     44  [    0.914    0.804   -1.936   -2.130   -1.947 ...]\n",
      "    2000    -60.8     13.7    -43.3     44  [    0.693    0.799   -1.022   -1.482   -2.025 ...]\n",
      "    2100    -60.7     13.9    -42.2     44  [    1.012    0.681   -1.267   -2.282   -2.193 ...]\n",
      "    2200    -60.7     14.2    -41.6     44  [    1.111    0.696   -2.248   -1.706   -1.518 ...]\n",
      "    2300    -60.6     14.4    -40.9     44  [    0.957    0.771   -2.168   -1.329   -1.256 ...]\n",
      "    2400    -60.6     14.5    -40.3     44  [    1.267    0.695   -2.157   -2.800   -2.126 ...]\n",
      "    2500    -60.6     14.6    -39.6     44  [    0.952    0.711   -2.541   -2.697   -0.871 ...]\n",
      "    2600    -60.6     14.7    -38.8     44  [    1.210    0.682   -2.088   -2.342   -1.748 ...]\n",
      "    2700    -60.6     14.8    -38.2     44  [    1.011    0.694   -1.971   -1.796   -1.803 ...]\n",
      "    2800    -60.5     14.9    -37.7     44  [    1.036    0.744   -1.933   -2.380   -1.186 ...]\n",
      "    2900    -60.5     14.9    -37.0     44  [    1.016    0.706   -2.371   -1.667   -1.535 ...]\n",
      "    3000    -60.5     14.9    -36.5     44  [    1.130    0.663   -1.801   -1.678   -1.313 ...]\n",
      "    3100    -60.5     14.9    -35.8     44  [    0.845    0.807   -1.295   -1.900   -1.395 ...]\n",
      "    3200    -60.5     15.0    -35.3     44  [    1.026    0.695   -1.856   -1.454   -1.392 ...]\n",
      "    3300    -60.5     15.0    -34.9     44  [    1.137    0.718   -2.674   -2.371   -1.579 ...]\n",
      "    3400    -60.5     15.0    -34.4     44  [    1.134    0.697   -2.542   -2.397   -1.382 ...]\n",
      "    3500    -60.5     15.0    -33.9     44  [    0.978    0.715   -2.165   -2.234   -1.472 ...]\n",
      "    3600    -60.5     15.0    -33.4     44  [    0.921    0.695   -2.089   -1.872   -1.294 ...]\n",
      "    3700    -60.5     15.0    -33.0     44  [    1.094    0.695   -1.774   -1.846   -1.799 ...]\n",
      "    3800    -60.5     15.0    -32.5     44  [    0.947    0.781   -2.075   -2.213   -1.967 ...]\n",
      "    3900    -60.5     15.0    -32.2     44  [    0.875    0.781   -1.850   -2.229   -1.396 ...]\n",
      "    4000    -60.5     15.0    -31.8     44  [    0.821    0.765   -1.757   -2.355   -1.467 ...]\n",
      "    4100    -60.5     15.0    -31.5     44  [    0.918    0.773   -2.311   -2.213   -1.405 ...]\n",
      "    4200    -60.5     15.0    -31.2     44  [    0.926    0.739   -1.724   -1.470   -1.648 ...]\n",
      "    4300    -60.5     15.0    -30.9     44  [    1.080    0.686   -2.399   -2.061   -1.355 ...]\n",
      "    4400    -60.5     15.0    -30.5     44  [    0.963    0.781   -2.257   -1.395   -1.643 ...]\n",
      "Engines              success     reject     failed       best        calls\n",
      "GalileanEngine         24667      10582      17286         15          0\n",
      "GibbsEngine           185032     144999      12616         69          0\n",
      "Calls to LogL         395182   to dLogL      10582\n",
      "Samples        4592\n",
      "Evidence       -26.288 +-      0.168\n"
     ]
    }
   ],
   "source": [
    "ns = NestedSampler( problem=problem, verbose=2, limits=[0.1,1] )\n",
    "\n",
    "# extra long run.\n",
    "ns.end = 3.0\n",
    "\n",
    "# find the solution\n",
    "evid = ns.sample( )\n"
   ]
  },
  {
   "cell_type": "code",
   "execution_count": 7,
   "metadata": {
    "scrolled": true
   },
   "outputs": [
    {
     "name": "stdout",
     "output_type": "stream",
     "text": [
      "Parameters : [    1.033    0.696]\n",
      "StDevs     : [    0.173    0.061]\n",
      "xdata      : [   -1.953   -1.940   -1.452   -1.827   -0.923   -0.399   -1.018   -0.677   -0.680   -0.118 ...]\n",
      "Nuisance   : [   -1.962   -2.027   -1.489   -1.703   -0.874   -0.358   -1.031   -0.895   -0.793   -0.129 ...]\n",
      "StdevNuis  : [    0.459    0.438    0.459    0.503    0.460    0.462    0.479    0.441    0.461    0.463 ...]\n",
      "Scale      :     0.737\n"
     ]
    }
   ],
   "source": [
    "pars = ns.parameters\n",
    "print( \"Parameters :\", fmt( pars, max=None ) )\n",
    "print( \"StDevs     :\", fmt( ns.stdevs, max=10 ) )\n",
    "xopt = ns.samples.nuisance\n",
    "print( \"xdata      :\", fmt( x, max=10))\n",
    "print( \"Nuisance   :\", fmt( xopt, max=10 ) )\n",
    "print( \"StdevNuis  :\", fmt( ns.samples.stdevNuis, max=10 ))\n",
    "print( \"Scale      :\", fmt( ns.scale ) )\n"
   ]
  },
  {
   "cell_type": "markdown",
   "metadata": {},
   "source": [
    "Plot the line and the connections of the datapoints to their targets.\n",
    "Note that the axes are scaled to the same size to show that the distances are perpendicular (more or less)."
   ]
  },
  {
   "cell_type": "code",
   "execution_count": 8,
   "metadata": {},
   "outputs": [
    {
     "data": {
      "image/png": "[encoded data removed]",
      "text/plain": [
       "<matplotlib.figure.Figure at 0x1116195c0>"
      ]
     },
     "metadata": {},
     "output_type": "display_data"
    }
   ],
   "source": [
    "yfit = mdl.result( x, pars )\n",
    "plt.figure( \"Errors in X and Y\", figsize=(6,6) )\n",
    "\n",
    "plt.plot( x, yfit, 'k-' )\n",
    "yopt = mdl.result( xopt, pars )\n",
    "for k in range( N ):\n",
    "    plt.plot( [x[k],xopt[k]], [y[k],yopt[k]], 'g-')\n",
    "plt.axis( [-3.0, 6.0, -3.0, 6.0] )\n",
    "    \n",
    "plt.show()"
   ]
  },
  {
   "cell_type": "code",
   "execution_count": null,
   "metadata": {},
   "outputs": [],
   "source": []
  }
 ],
 "metadata": {
  "anaconda-cloud": {},
  "kernelspec": {
   "display_name": "Python 3",
   "language": "python",
   "name": "python3"
  },
  "language_info": {
   "codemirror_mode": {
    "name": "ipython",
    "version": 3
   },
   "file_extension": ".py",
   "mimetype": "text/x-python",
   "name": "python",
   "nbconvert_exporter": "python",
   "pygments_lexer": "ipython3",
   "version": "3.5.4"
  }
 },
 "nbformat": 4,
 "nbformat_minor": 1
}
