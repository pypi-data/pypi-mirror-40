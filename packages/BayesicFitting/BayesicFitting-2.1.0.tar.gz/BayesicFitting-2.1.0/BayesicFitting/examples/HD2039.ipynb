{
 "cells": [
  {
   "cell_type": "markdown",
   "metadata": {},
   "source": [
    "## HD 2039\n",
    "\n",
    "Radial velocity data for HD2039 were obtained from Tinney et al.(2003).\n",
    "\n",
    "\n",
    "Author: Do Kester\n"
   ]
  },
  {
   "cell_type": "markdown",
   "metadata": {},
   "source": [
    "We need to import some classes"
   ]
  },
  {
   "cell_type": "code",
   "execution_count": 1,
   "metadata": {},
   "outputs": [],
   "source": [
    "import numpy as numpy\n",
    "import math\n",
    "\n",
    "from astropy.io import ascii\n",
    "from BayesicFitting import RadialVelocityModel\n",
    "from BayesicFitting import PolynomialModel\n",
    "from BayesicFitting import CircularUniformPrior\n",
    "\n",
    "from BayesicFitting import NestedSampler\n",
    "from BayesicFitting import formatter as fmt\n",
    "from BayesicFitting import plotFit\n",
    "from BayesicFitting import Tools\n",
    "import matplotlib.pyplot as plt\n",
    "\n"
   ]
  },
  {
   "cell_type": "code",
   "execution_count": 2,
   "metadata": {},
   "outputs": [],
   "source": [
    "#%matplotlib osx"
   ]
  },
  {
   "cell_type": "markdown",
   "metadata": {},
   "source": [
    "Read the data"
   ]
  },
  {
   "cell_type": "code",
   "execution_count": 8,
   "metadata": {},
   "outputs": [],
   "source": [
    "tbl = ascii.read( \"data/HD2039-Tinney.dat\" )\n",
    "#print( tbl )\n",
    "jd = tbl['JDa'].data\n",
    "rv = tbl['RVa'].data\n",
    "er = tbl['Uncertainty'].data\n",
    "wgt = 100.0 / numpy.square( er )"
   ]
  },
  {
   "cell_type": "markdown",
   "metadata": {},
   "source": [
    "We define a radial velocity model. It has 5 parameters: eccentricity, amplitude, period, phase of periastron, longitude of periastron.\n",
    "The phase parameters both get a CircularUniformPrior.\n",
    "We need to add a constant for the systemic velocity of the system."
   ]
  },
  {
   "cell_type": "code",
   "execution_count": 9,
   "metadata": {},
   "outputs": [
    {
     "name": "stdout",
     "output_type": "stream",
     "text": [
      "Polynomial: f( x:p ) = p_0 +\n",
      "RadialVelocity \n"
     ]
    }
   ],
   "source": [
    "twopi = 2 * math.pi\n",
    "rvm = RadialVelocityModel( )\n",
    "lolim = [0.0, 0.0, 1000.0]\n",
    "hilim = [0.9, 200.0, 1500.0]\n",
    "rvm.setLimits( lowLimits=lolim, highLimits=hilim )\n",
    "rvm.setPrior( 3, prior=CircularUniformPrior(), limits=[0,twopi] )\n",
    "rvm.setPrior( 4, prior=CircularUniformPrior(), limits=[0,twopi] )\n",
    "#Tools.printclass( rvm )\n",
    "pm = PolynomialModel( 0 )\n",
    "pm.setLimits( lowLimits=[0], highLimits=[200] )\n",
    "#sm *= hm\n",
    "mdl = pm + rvm\n",
    "print( mdl )\n"
   ]
  },
  {
   "cell_type": "code",
   "execution_count": 10,
   "metadata": {},
   "outputs": [
    {
     "name": "stdout",
     "output_type": "stream",
     "text": [
      "Fit all parameters of\n",
      "  Polynomial: f( x:p ) = p_0 +\n",
      "  RadialVelocity \n",
      "Using a Gauss error distribution with with unknown scale\n",
      "   16945   -130.9     16.9   -109.0      7  [    5.894    0.736  164.242 1187.358    5.423 ...]          .026  116.578 1092.231    2.464 ...]\n",
      "Engines              success     reject     failed       best      calls\n",
      "GalileanEngine         93109      29973      56322         50      16945\n",
      "Calls to LogL         179404   to dLogL      29973\n",
      "Samples       17445\n",
      "Evidence       -56.865 +-      0.080\n"
     ]
    },
    {
     "data": {
      "image/png": "[encoded data removed]",
      "text/plain": [
       "<matplotlib.figure.Figure at 0x11264f320>"
      ]
     },
     "metadata": {},
     "output_type": "display_data"
    }
   ],
   "source": [
    "# define NestedSampler\n",
    "ns = NestedSampler( jd, mdl, rv, weights=wgt, seed=1301 )\n",
    "ns.ensemble = 500\n",
    "# set limits on the noise scale of the distribution\n",
    "ns.distribution.setLimits( [0.01,100] )\n",
    "\n",
    "# run NestedSampler\n",
    "evi = ns.sample( plot=True )\n"
   ]
  },
  {
   "cell_type": "code",
   "execution_count": 14,
   "metadata": {},
   "outputs": [
    {
     "name": "stdout",
     "output_type": "stream",
     "text": [
      "[    3.707    0.691  130.182 1252.030    5.171    5.795]\n",
      "[    3.246    0.067   27.224   69.326    0.305    0.139]\n",
      "[    3.707    0.691  130.182 1252.030  296.268  120.061]\n",
      "[    3.246    0.067   27.224   69.326   17.480    2.882]\n",
      "   14.179     2.507\n",
      "-56.86520844547818\n"
     ]
    }
   ],
   "source": [
    "sl = ns.samples\n",
    "par = sl.parameters\n",
    "std = sl.stdevs\n",
    "print( fmt( par, max=None ) )\n",
    "print( fmt( std, max=None ) )\n",
    "pal = par.copy()\n",
    "stl = std.copy()\n",
    "pal[4] *= 180/math.pi\n",
    "pal[5] *= 0.5 * pal[2] / math.pi\n",
    "stl[4] *= 180 / math.pi\n",
    "stl[5] *= 0.5 * pal[2] / math.pi\n",
    "print( fmt( pal, max=None ) )\n",
    "print( fmt( stl, max=None ) )\n",
    "print( fmt( sl.scale ), fmt( sl.stdevScale ) )\n",
    "print( evi )"
   ]
  },
  {
   "cell_type": "code",
   "execution_count": 15,
   "metadata": {},
   "outputs": [
    {
     "data": {
      "image/png": "[encoded data removed]",
      "text/plain": [
       "<matplotlib.figure.Figure at 0x111c93a58>"
      ]
     },
     "metadata": {},
     "output_type": "display_data"
    }
   ],
   "source": [
    "plt.plot( jd, rv, 'k. ' )\n",
    "xx = numpy.linspace( 100, 1500, 1401, dtype=float )\n",
    "plt.plot( xx, mdl.result( xx, par ), 'r-' )\n",
    "plt.xlabel( \"JulianDays (-2451000)\")\n",
    "plt.ylabel( \"Radial Velocity\")\n",
    "plt.title( \"HD2039\" )\n",
    "plt.show()"
   ]
  },
  {
   "cell_type": "code",
   "execution_count": null,
   "metadata": {},
   "outputs": [],
   "source": []
  }
 ],
 "metadata": {
  "anaconda-cloud": {},
  "kernelspec": {
   "display_name": "Python 3",
   "language": "python",
   "name": "python3"
  },
  "language_info": {
   "codemirror_mode": {
    "name": "ipython",
    "version": 3
   },
   "file_extension": ".py",
   "mimetype": "text/x-python",
   "name": "python",
   "nbconvert_exporter": "python",
   "pygments_lexer": "ipython3",
   "version": "3.5.4"
  }
 },
 "nbformat": 4,
 "nbformat_minor": 1
}
