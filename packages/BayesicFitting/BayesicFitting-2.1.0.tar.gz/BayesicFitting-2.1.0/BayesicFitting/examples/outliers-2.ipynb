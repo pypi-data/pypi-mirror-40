{
 "cells": [
  {
   "cell_type": "markdown",
   "metadata": {},
   "source": [
    "## Outliers\n",
    "\n",
    "Outliers are data points that we dont want to consider in our fit. The reasons can be different. It might be spurious signal falling on the detector, like glitches, or in principle valid signal that cannot be considered in the model at hand.\n",
    "\n",
    "Here we present the same data as in the methanol example. See there for explanation of the construction of the spectrum. \n",
    "\n",
    "Part of that spectrum (around 500 GHz) shows a sinusoidal background signal, which is caused by aliasing in the deconvolution process. \n",
    "\n",
    "We want to fit the background with a sine function. All absorption lines in the spectrum are outliers and should be disregarded.\n",
    "\n",
    "In this example we use the NestedSampler with a mixture of 2 error distributions: Gauss and Uniform\n",
    "\n",
    "Demonstration: \n",
    "    1. Compound model of sine + constant\n",
    "    2. NestedSampler \n",
    "    3. MixedErrorDistribution: Gauss + Uniform\n",
    "\n",
    "Author: Do Kester\n"
   ]
  },
  {
   "cell_type": "markdown",
   "metadata": {},
   "source": [
    "We need to import some classes"
   ]
  },
  {
   "cell_type": "code",
   "execution_count": 1,
   "metadata": {},
   "outputs": [],
   "source": [
    "import numpy as numpy\n",
    "import math\n",
    "\n",
    "from astropy.io import fits\n",
    "from BayesicFitting import SineModel\n",
    "from BayesicFitting import PolynomialModel\n",
    "from BayesicFitting import NestedSampler\n",
    "from BayesicFitting import MixedErrorDistribution\n",
    "from BayesicFitting import GaussErrorDistribution\n",
    "from BayesicFitting import UniformErrorDistribution\n",
    "from BayesicFitting import formatter as fmt\n",
    "from BayesicFitting import Tools\n",
    "from BayesicFitting import plotFit\n",
    "import matplotlib.pyplot as plt\n",
    "import matplotlib.gridspec as gridspec\n"
   ]
  },
  {
   "cell_type": "code",
   "execution_count": 2,
   "metadata": {},
   "outputs": [],
   "source": [
    "# uncomment the next line to get the plots in a separate scalable \n",
    "# window.\n",
    "\n",
    "%matplotlib osx\n",
    "\n",
    "#%matplotlib inline"
   ]
  },
  {
   "cell_type": "markdown",
   "metadata": {},
   "source": [
    "Read the data"
   ]
  },
  {
   "cell_type": "code",
   "execution_count": 3,
   "metadata": {},
   "outputs": [],
   "source": [
    "hdu = fits.open( \"data/Decgf-Methanol-1-5.fits\" )"
   ]
  },
  {
   "cell_type": "code",
   "execution_count": 4,
   "metadata": {},
   "outputs": [],
   "source": [
    "data = hdu[1].data\n",
    "flux = data.field( 0 )\n",
    "freq = data.field( 1 )\n",
    "covr = data.field( 2 )\n"
   ]
  },
  {
   "cell_type": "code",
   "execution_count": 5,
   "metadata": {},
   "outputs": [],
   "source": [
    "plt.plot( freq, flux, 'k-')\n",
    "plt.show()\n"
   ]
  },
  {
   "cell_type": "markdown",
   "metadata": {},
   "source": [
    "Select the part between 490 and 560 GHz, where the background is aliased."
   ]
  },
  {
   "cell_type": "code",
   "execution_count": 6,
   "metadata": {},
   "outputs": [
    {
     "name": "stdout",
     "output_type": "stream",
     "text": [
      "140000\n"
     ]
    }
   ],
   "source": [
    "q = numpy.where( numpy.logical_and( freq > 490, freq < 560 ))\n",
    "flx = flux[q]\n",
    "frq = freq[q]\n",
    "cov = covr[q]\n",
    "print( len( flx ) )\n",
    "plt.figure( \"490 to 560\", figsize=(12,4) )\n",
    "plt.plot( frq, flx, 'k-')\n",
    "plt.ylabel( \"flux\" )\n",
    "plt.xlabel( \"frequency (GHz)\" )\n",
    "\n",
    "plt.show()\n"
   ]
  },
  {
   "cell_type": "markdown",
   "metadata": {},
   "source": [
    "Make a compound model consisting of a SineModel plus a constant: PolynomialModel( 0 )."
   ]
  },
  {
   "cell_type": "code",
   "execution_count": 6,
   "metadata": {},
   "outputs": [],
   "source": [
    "sm = SineModel()\n",
    "lo = [0.9, -0.2, -0.2]\n",
    "hi = [1.1, 0.2,  0.2]\n",
    "sm.setLimits( lo, hi )\n",
    "pm = PolynomialModel( 0 )\n",
    "pm.setLimits( [0.99], [1.01] )\n",
    "model = pm + sm\n"
   ]
  },
  {
   "cell_type": "markdown",
   "metadata": {},
   "source": [
    "Construct a mixed error distribution consisting of a Gaussian kernel which should catch the sinusoidal background plus a broad Uniform error distribution that should catch and neutralize the absorption lines."
   ]
  },
  {
   "cell_type": "code",
   "execution_count": 7,
   "metadata": {
    "scrolled": false
   },
   "outputs": [
    {
     "name": "stdout",
     "output_type": "stream",
     "text": [
      "Fit all parameters of\n",
      "  Polynomial: f( x:p ) = p_0 +\n",
      "  Sine: f( x:p ) = p_2 * cos( 2PI * x * p_1 ) + p_3 * sin( 2PI * x * p_1 )\n",
      "Using a Mixed error distribution : Gauss + Uniform with with unknown hypar\n",
      "Moving the walkers with   GalileanEngine\n",
      "Using no threads.\n",
      "Engines              success     reject     failed       best        calls\n",
      "GalileanEngine        108966      40775      73230        384          0\n",
      "Calls to LogL         222971   to dLogL      40775\n",
      "Samples       19893\n",
      "Evidence    226501.680 +-      0.432\n"
     ]
    }
   ],
   "source": [
    "ged = GaussErrorDistribution( limits=[0.001,1])\n",
    "ued = UniformErrorDistribution( limits=[0.1,10] )\n",
    "ed = MixedErrorDistribution( ged, ued, limits=[0.1,0.9] )\n",
    "\n",
    "#Tools.printclass( ed )\n",
    "#Tools.printclass( ed.hyperpar[-1] )\n",
    "#Tools.printclass( ed.hyperpar[-2] )\n",
    "#Tools.printclass( ed.hyperpar[-3] )\n",
    "\n",
    "ns = NestedSampler( frq, model, flx, distribution=ed, seed=2233 )\n",
    "ns.verbose = 1\n",
    "\n",
    "evidence = ns.sample( )\n",
    "pars = ns.parameters\n",
    "#print( pars )\n",
    "#print( ns.stdevs )\n",
    "#print( ns.scale )\n",
    "#print( evidence )"
   ]
  },
  {
   "cell_type": "code",
   "execution_count": 8,
   "metadata": {},
   "outputs": [
    {
     "name": "stdout",
     "output_type": "stream",
     "text": [
      "Params  [    0.99945    0.99981    0.00311    0.00359]\n",
      "Stdevs  [    0.00001    0.00002    0.00028    0.00024]\n",
      "Hypars  [    0.00287    0.80310    0.89995]\n",
      "StdHyp  [  0.0000107  0.0000586  0.0000349]\n"
     ]
    }
   ],
   "source": [
    "sl = ns.samples\n",
    "param = sl.parameters\n",
    "stdev = sl.stdevs\n",
    "hypar = sl.hypars\n",
    "sthyp = sl.stdevHypars\n",
    "print( \"Params \", fmt( param, max=None, format=\" %10.5f\" ) )\n",
    "print( \"Stdevs \", fmt( stdev, max=None, format=\" %10.5f\" ) )\n",
    "print( \"Hypars \", fmt( hypar, max=None, format=\" %10.5f\" ) )\n",
    "print( \"StdHyp \", fmt( sthyp, max=None, format=\" %10.7f\" ) )\n"
   ]
  },
  {
   "cell_type": "code",
   "execution_count": 9,
   "metadata": {},
   "outputs": [
    {
     "data": {
      "image/png": "[encoded data removed]",
      "text/plain": [
       "<matplotlib.figure.Figure at 0x10c0bcf98>"
      ]
     },
     "metadata": {},
     "output_type": "display_data"
    }
   ],
   "source": [
    "yfit = model.result( frq, param )\n",
    "plt.figure( 1, figsize=(12,4) )\n",
    "plt.plot( frq, flx, 'k,' )\n",
    "plt.plot( frq, yfit, 'r-' )\n",
    "plt.show()"
   ]
  },
  {
   "cell_type": "code",
   "execution_count": null,
   "metadata": {},
   "outputs": [],
   "source": []
  }
 ],
 "metadata": {
  "anaconda-cloud": {},
  "kernelspec": {
   "display_name": "Python 3",
   "language": "python",
   "name": "python3"
  },
  "language_info": {
   "codemirror_mode": {
    "name": "ipython",
    "version": 3
   },
   "file_extension": ".py",
   "mimetype": "text/x-python",
   "name": "python",
   "nbconvert_exporter": "python",
   "pygments_lexer": "ipython3",
   "version": "3.5.4"
  }
 },
 "nbformat": 4,
 "nbformat_minor": 1
}
