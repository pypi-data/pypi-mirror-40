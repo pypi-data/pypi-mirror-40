{
 "cells": [
  {
   "cell_type": "markdown",
   "metadata": {},
   "source": [
    "## Getting Started\n",
    "Let's start a new session. **Replace client id and secret placeholders with actual values.**"
   ]
  },
  {
   "cell_type": "code",
   "execution_count": null,
   "metadata": {},
   "outputs": [],
   "source": [
    "%matplotlib notebook\n",
    "from gs_quant import *\n",
    "import pprint as pp\n",
    "client_id = ''; client_secret = ''\n",
    "assert client_id and client_secret, \"Input your client id and secret before running this cell.\"\n",
    "session = AppSession(client_id, client_secret, Environment.PROD)  # input your id and secret\n",
    "session.start()"
   ]
  },
  {
   "cell_type": "markdown",
   "metadata": {},
   "source": [
    "Retrieve information about a dataset from the catalog."
   ]
  },
  {
   "cell_type": "code",
   "execution_count": null,
   "metadata": {},
   "outputs": [],
   "source": [
    "catalog = session.get_data_catalog('EDRVOL_PERCENT_SHORT')\n",
    "fields = ['id', 'name', 'shortDescription', 'vendor', 'parameters']\n",
    "catalog = {k: v for k, v in catalog.items() if k in fields}\n",
    "pp.pprint(catalog)  # show selected metadata"
   ]
  },
  {
   "cell_type": "markdown",
   "metadata": {},
   "source": [
    "Find out what assets are included in the dataset."
   ]
  },
  {
   "cell_type": "code",
   "execution_count": null,
   "metadata": {},
   "outputs": [],
   "source": [
    "coverage = session.get_coverage('EDRVOL_PERCENT_SHORT')\n",
    "pp.pprint(coverage[:3])  # show the first 3 covered assets"
   ]
  },
  {
   "cell_type": "markdown",
   "metadata": {},
   "source": [
    "## Retrieving a Data Table\n",
    "Get data as a Pandas DataFrame. Note: this example will not work if you do not have access to EDRVOL_PERCENT_SHORT."
   ]
  },
  {
   "cell_type": "code",
   "execution_count": null,
   "metadata": {},
   "outputs": [],
   "source": [
    "df = session.get_data('EDRVOL_PERCENT_SHORT', {'bbid': 'SPX', 'relativeStrike': 1}, '2018-01-02', '2018-01-09')\n",
    "df.head()"
   ]
  },
  {
   "cell_type": "markdown",
   "metadata": {},
   "source": [
    "## Retrieving a Data Series\n",
    "Get S&P 500 prices as a Pandas Series. Note: this example will not work if you do not have access to TREOD."
   ]
  },
  {
   "cell_type": "code",
   "execution_count": null,
   "metadata": {},
   "outputs": [],
   "source": [
    "import matplotlib.pyplot as plt\n",
    "q = {'bbid': 'SPX', 'strikeReference': 'spot', 'tenor': '1m', 'relativeStrike': 1}\n",
    "series = session.get_data_series('EDRVOL_PERCENT_SHORT', q, 'impliedVolatility', start='2016-01-01', end='2017-01-01')\n",
    "plt.clf()\n",
    "series.plot()"
   ]
  },
  {
   "cell_type": "markdown",
   "metadata": {},
   "source": [
    "Calculate max drawdown and plot it."
   ]
  },
  {
   "cell_type": "code",
   "execution_count": null,
   "metadata": {},
   "outputs": [],
   "source": [
    "import gs_quant.timeseries as ts  # timeseries functions do not require an open session\n",
    "mdd = ts.ind(series)\n",
    "plt.clf()\n",
    "mdd.plot('area')"
   ]
  },
  {
   "cell_type": "markdown",
   "metadata": {},
   "source": [
    "## Identifier Mapping\n",
    "Map identifiers from one type to another e.g. Marquee asset ID to BBID."
   ]
  },
  {
   "cell_type": "code",
   "execution_count": null,
   "metadata": {},
   "outputs": [],
   "source": [
    "ids = session.map_identifiers('id', ['MA4B66MW5E27U8P32SB', 'MA4B66MW5E27U8NN95P', 'MA4B66MW5E27UAHKG34'], 'bbid')\n",
    "pp.pprint(ids)"
   ]
  },
  {
   "cell_type": "markdown",
   "metadata": {},
   "source": [
    "## Cleaning Up"
   ]
  },
  {
   "cell_type": "markdown",
   "metadata": {},
   "source": [
    "When finished, call session.finish() to free up resources. Alternatively, use 'with' syntax to take care of this automatically."
   ]
  },
  {
   "cell_type": "code",
   "execution_count": null,
   "metadata": {},
   "outputs": [],
   "source": [
    "client_id = ''; client_secret = ''\n",
    "assert client_id and client_secret, \"Input your client id and secret before running this cell.\"\n",
    "with AppSession(client_id, client_secret, Environment.PROD) as session:\n",
    "    # session is open in this block\n",
    "    df = session.get_data('EDRVOL_PERCENT_SHORT', {'ric': '.SPX', 'relativeStrike': 1}, '2018-01-02', '2018-01-09')\n",
    "\n",
    "# session is closed out here\n",
    "mdd = ts.max_drawdown(series)"
   ]
  }
 ],
 "metadata": {
  "kernelspec": {
   "display_name": "Python 3",
   "language": "python",
   "name": "python3"
  }
 },
 "nbformat": 4,
 "nbformat_minor": 1
}
