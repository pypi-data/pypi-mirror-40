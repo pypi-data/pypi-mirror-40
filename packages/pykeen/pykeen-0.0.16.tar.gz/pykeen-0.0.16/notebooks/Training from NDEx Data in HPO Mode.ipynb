{
 "cells": [
  {
   "cell_type": "code",
   "execution_count": 1,
   "metadata": {},
   "outputs": [],
   "source": [
    "import logging\n",
    "import os\n",
    "import sys\n",
    "import time\n",
    "\n",
    "import numpy as np\n",
    "import matplotlib.pyplot as plt\n",
    "import pykeen\n",
    "from sklearn.decomposition import PCA"
   ]
  },
  {
   "cell_type": "code",
   "execution_count": 2,
   "metadata": {},
   "outputs": [],
   "source": [
    "%matplotlib inline"
   ]
  },
  {
   "cell_type": "code",
   "execution_count": 3,
   "metadata": {},
   "outputs": [],
   "source": [
    "logging.basicConfig(level=logging.INFO)\n",
    "logging.getLogger('pykeen').setLevel(logging.INFO)"
   ]
  },
  {
   "cell_type": "code",
   "execution_count": 4,
   "metadata": {},
   "outputs": [
    {
     "name": "stdout",
     "output_type": "stream",
     "text": [
      "3.7.0 (default, Jul 23 2018, 20:22:55) \n",
      "[Clang 9.1.0 (clang-902.0.39.2)]\n"
     ]
    }
   ],
   "source": [
    "print(sys.version)"
   ]
  },
  {
   "cell_type": "code",
   "execution_count": 5,
   "metadata": {},
   "outputs": [
    {
     "name": "stdout",
     "output_type": "stream",
     "text": [
      "Thu Nov 22 13:44:55 2018\n"
     ]
    }
   ],
   "source": [
    "print(time.asctime())"
   ]
  },
  {
   "cell_type": "code",
   "execution_count": 6,
   "metadata": {
    "scrolled": true
   },
   "outputs": [
    {
     "name": "stdout",
     "output_type": "stream",
     "text": [
      "0.0.14-dev\n"
     ]
    }
   ],
   "source": [
    "print(pykeen.get_version())"
   ]
  },
  {
   "cell_type": "code",
   "execution_count": 7,
   "metadata": {},
   "outputs": [],
   "source": [
    "output_directory = os.path.join(\n",
    "    os.path.expanduser('~'), \n",
    "    'Desktop', \n",
    "    'pykeen_test'\n",
    ")"
   ]
  },
  {
   "cell_type": "code",
   "execution_count": 8,
   "metadata": {},
   "outputs": [
    {
     "name": "stderr",
     "output_type": "stream",
     "text": [
      "INFO:pykeen.utilities.pipeline:downloading b0d987cb-1e6b-11e8-b939-0ac135e8bacf from ndex\n",
      "/Users/cthoyt/.virtualenvs/hbp/lib/python3.7/site-packages/torch/nn/functional.py:52: UserWarning: size_average and reduce args will be deprecated, please use reduction='elementwise_mean' instead.\n",
      "  warnings.warn(warning.format(ret))\n",
      "Training the model (epochs): 100%|██████████| 25/25 [00:17<00:00,  1.49it/s]\n",
      "Training the model (epochs): 100%|██████████| 25/25 [00:15<00:00,  1.56it/s]\n",
      "Training the model (epochs): 100%|██████████| 25/25 [00:16<00:00,  1.46it/s]\n",
      "Training the model (epochs): 100%|██████████| 25/25 [00:16<00:00,  1.53it/s]\n",
      "Training the model (epochs): 100%|██████████| 25/25 [00:14<00:00,  1.58it/s]\n",
      "Training the model (epochs): 100%|██████████| 25/25 [00:16<00:00,  1.61it/s]\n",
      "Training the model (epochs): 100%|██████████| 25/25 [00:16<00:00,  1.51it/s]\n",
      "Training the model (epochs): 100%|██████████| 25/25 [00:15<00:00,  1.74it/s]\n",
      "Training the model (epochs): 100%|██████████| 25/25 [00:14<00:00,  1.67it/s]\n",
      "Training the model (epochs): 100%|██████████| 25/25 [00:16<00:00,  1.56it/s]\n",
      "Training the model (epochs): 100%|██████████| 25/25 [00:15<00:00,  1.61it/s]\n",
      "Training the model (epochs): 100%|██████████| 25/25 [00:15<00:00,  1.57it/s]\n",
      "Training the model (epochs): 100%|██████████| 25/25 [00:14<00:00,  1.74it/s]\n",
      "Training the model (epochs): 100%|██████████| 25/25 [00:15<00:00,  1.54it/s]\n",
      "Training the model (epochs): 100%|██████████| 25/25 [00:16<00:00,  1.58it/s]\n",
      "Training the model (epochs): 100%|██████████| 25/25 [00:16<00:00,  1.66it/s]\n",
      "Training the model (epochs): 100%|██████████| 25/25 [00:16<00:00,  1.56it/s]\n",
      "Training the model (epochs): 100%|██████████| 25/25 [00:16<00:00,  1.46it/s]\n",
      "Training the model (epochs): 100%|██████████| 25/25 [00:15<00:00,  1.57it/s]\n",
      "Training the model (epochs): 100%|██████████| 25/25 [00:15<00:00,  1.58it/s]\n",
      "Training the model (epochs): 100%|██████████| 25/25 [00:16<00:00,  1.45it/s]\n",
      "Training the model (epochs): 100%|██████████| 25/25 [00:16<00:00,  1.57it/s]\n",
      "Training the model (epochs): 100%|██████████| 25/25 [00:15<00:00,  1.52it/s]\n",
      "Training the model (epochs): 100%|██████████| 25/25 [00:15<00:00,  1.54it/s]\n",
      "Training the model (epochs): 100%|██████████| 25/25 [00:15<00:00,  1.66it/s]\n",
      "Training the model (epochs): 100%|██████████| 25/25 [00:16<00:00,  1.63it/s]\n",
      "Training the model (epochs): 100%|██████████| 25/25 [00:17<00:00,  1.40it/s]\n",
      "Training the model (epochs): 100%|██████████| 25/25 [00:17<00:00,  1.44it/s]\n",
      "Training the model (epochs): 100%|██████████| 25/25 [00:16<00:00,  1.56it/s]\n",
      "Training the model (epochs): 100%|██████████| 25/25 [00:16<00:00,  1.62it/s]\n",
      "Training the model (epochs): 100%|██████████| 25/25 [00:15<00:00,  1.74it/s]\n",
      "Training the model (epochs): 100%|██████████| 25/25 [00:15<00:00,  1.46it/s]\n",
      "Training the model (epochs): 100%|██████████| 25/25 [00:15<00:00,  1.66it/s]\n",
      "Training the model (epochs): 100%|██████████| 25/25 [00:15<00:00,  1.54it/s]\n",
      "Training the model (epochs): 100%|██████████| 25/25 [00:15<00:00,  1.62it/s]\n",
      "Training the model (epochs): 100%|██████████| 25/25 [00:15<00:00,  1.70it/s]\n",
      "Training the model (epochs): 100%|██████████| 25/25 [00:14<00:00,  1.76it/s]\n",
      "Training the model (epochs): 100%|██████████| 25/25 [00:14<00:00,  1.75it/s]\n",
      "Training the model (epochs): 100%|██████████| 25/25 [00:14<00:00,  1.59it/s]\n",
      "Training the model (epochs): 100%|██████████| 25/25 [00:14<00:00,  1.75it/s]\n",
      "Training the model (epochs): 100%|██████████| 25/25 [00:14<00:00,  1.73it/s]\n",
      "Training the model (epochs): 100%|██████████| 25/25 [00:14<00:00,  1.66it/s]\n",
      "Training the model (epochs): 100%|██████████| 25/25 [00:17<00:00,  1.50it/s]\n",
      "Training the model (epochs): 100%|██████████| 25/25 [00:16<00:00,  1.47it/s]\n",
      "Training the model (epochs): 100%|██████████| 25/25 [00:17<00:00,  1.35it/s]\n",
      "Training the model (epochs): 100%|██████████| 25/25 [00:16<00:00,  1.52it/s]\n",
      "Training the model (epochs): 100%|██████████| 25/25 [00:15<00:00,  1.75it/s]\n",
      "Training the model (epochs): 100%|██████████| 25/25 [00:14<00:00,  1.74it/s]\n",
      "Training the model (epochs): 100%|██████████| 25/25 [00:14<00:00,  1.72it/s]\n",
      "Training the model (epochs): 100%|██████████| 25/25 [00:14<00:00,  1.75it/s]\n"
     ]
    }
   ],
   "source": [
    "config = dict(\n",
    "    # Use Signor (see: http://www.ndexbio.org/#/network/b0d987cb-1e6b-11e8-b939-0ac135e8bacf)\n",
    "    training_set_path           = 'ndex:b0d987cb-1e6b-11e8-b939-0ac135e8bacf',\n",
    "    random_seed                 = 0,\n",
    "    hpo_mode                    = True,\n",
    "    maximum_number_of_hpo_iters = 50,\n",
    "    kg_embedding_model_name     = 'TransE',\n",
    "    embedding_dim               = 10,\n",
    "    normalization_of_entities   = 2,  # corresponds to L2\n",
    "    scoring_function            = 1,  # corresponds to L1\n",
    "    margin_loss                 = 8,\n",
    "    learning_rate               = 0.01,\n",
    "    num_epochs                  = 25,  # 1000 is better for real\n",
    "    batch_size                  = 32,\n",
    ")\n",
    "\n",
    "results = pykeen.run(\n",
    "    config=config,\n",
    "    output_directory=output_directory,\n",
    ")"
   ]
  },
  {
   "cell_type": "code",
   "execution_count": 9,
   "metadata": {},
   "outputs": [
    {
     "data": {
      "text/plain": [
       "odict_keys(['trained_model', 'losses', 'entity_to_embedding', 'relation_to_embedding', 'eval_summary', 'entity_to_id', 'relation_to_id'])"
      ]
     },
     "execution_count": 9,
     "metadata": {},
     "output_type": "execute_result"
    }
   ],
   "source": [
    "results.results.keys()"
   ]
  },
  {
   "cell_type": "code",
   "execution_count": 10,
   "metadata": {},
   "outputs": [
    {
     "data": {
      "text/plain": [
       "TransE(\n",
       "  (entity_embeddings): Embedding(4961, 10)\n",
       "  (relation_embeddings): Embedding(12, 10)\n",
       "  (criterion): MarginRankingLoss()\n",
       ")"
      ]
     },
     "execution_count": 10,
     "metadata": {},
     "output_type": "execute_result"
    }
   ],
   "source": [
    "results.results['trained_model']"
   ]
  },
  {
   "cell_type": "code",
   "execution_count": 11,
   "metadata": {},
   "outputs": [
    {
     "data": {
      "image/png": "[encoded data removed]",
      "text/plain": [
       "<Figure size 432x288 with 1 Axes>"
      ]
     },
     "metadata": {
      "needs_background": "light"
     },
     "output_type": "display_data"
    }
   ],
   "source": [
    "plt.title('Lossed')\n",
    "plt.hist(results.results['losses'])\n",
    "plt.show()"
   ]
  },
  {
   "cell_type": "code",
   "execution_count": 12,
   "metadata": {},
   "outputs": [
    {
     "data": {
      "image/png": "[encoded data removed]",
      "text/plain": [
       "<Figure size 432x288 with 1 Axes>"
      ]
     },
     "metadata": {
      "needs_background": "light"
     },
     "output_type": "display_data"
    }
   ],
   "source": [
    "pca = PCA(n_components=2)\n",
    "X = np.array(list(results.results['entity_to_embedding'].values()))\n",
    "X_red = pca.fit_transform(X)\n",
    "\n",
    "plt.title('Entity Embeddings in 2D')\n",
    "plt.scatter(X_red[::,0], X_red[::,1])\n",
    "plt.xlabel('Component 1')\n",
    "plt.ylabel('Component 2')\n",
    "plt.show()"
   ]
  },
  {
   "cell_type": "code",
   "execution_count": 13,
   "metadata": {},
   "outputs": [
    {
     "data": {
      "image/png": "[encoded data removed]",
      "text/plain": [
       "<Figure size 432x288 with 1 Axes>"
      ]
     },
     "metadata": {
      "needs_background": "light"
     },
     "output_type": "display_data"
    }
   ],
   "source": [
    "pca = PCA(n_components=2)\n",
    "X = np.array(list(results.results['relation_to_embedding'].values()))\n",
    "X_red = pca.fit_transform(X)\n",
    "\n",
    "plt.title('Relation Embeddings in 2D')\n",
    "plt.scatter(X_red[::,0], X_red[::,1])\n",
    "plt.xlabel('Component 1')\n",
    "plt.ylabel('Component 2')\n",
    "plt.show()"
   ]
  }
 ],
 "metadata": {
  "kernelspec": {
   "display_name": "Python 3",
   "language": "python",
   "name": "python3"
  },
  "language_info": {
   "codemirror_mode": {
    "name": "ipython",
    "version": 3
   },
   "file_extension": ".py",
   "mimetype": "text/x-python",
   "name": "python",
   "nbconvert_exporter": "python",
   "pygments_lexer": "ipython3",
   "version": "3.7.0"
  }
 },
 "nbformat": 4,
 "nbformat_minor": 2
}
