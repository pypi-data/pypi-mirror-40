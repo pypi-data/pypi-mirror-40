{
 "cells": [
  {
   "cell_type": "code",
   "execution_count": 1,
   "metadata": {},
   "outputs": [],
   "source": [
    "import floatview\n",
    "import pandas as pd\n",
    "import requests\n",
    "import io"
   ]
  },
  {
   "cell_type": "code",
   "execution_count": 2,
   "metadata": {},
   "outputs": [],
   "source": [
    "url=\"https://perso.telecom-paristech.fr/eagan/class/igr204/data/cars.csv\"\n",
    "s=requests.get(url).content\n",
    "tab = pd.read_csv(io.StringIO(s.decode('utf-8')), index_col=False, sep=';', skiprows=[1])"
   ]
  },
  {
   "cell_type": "code",
   "execution_count": 3,
   "metadata": {},
   "outputs": [],
   "source": [
    "gmw = floatview.GlueManagerWidget(tab, modal=True, label=\"400Cars\")"
   ]
  },
  {
   "cell_type": "code",
   "execution_count": 4,
   "metadata": {},
   "outputs": [
    {
     "data": {
      "text/plain": [
       "'gmw.gluemanager.newView(\"scatter\", [\"Cylinders\", \"MPG\"], \"CylindersxMPG\");\\ngmw.gluemanager.newView(\"parallels\", [\"Acceleration\", \"Cylinders\", \"MPG\",\"Cylinders\",\"Weight\"], \"Parallel\");\\ngmw.gluemanager.newView(\"table\", [\"Acceleration\", \"Cylinders\", \"MPG\",\"Cylinders\",\"Weight\"], \"Table\");\\ngmw.gluemanager.newView(\"histogram\", [\"Cylinders\"], \"Cylinders\");\\ngmw.gluemanager.newView(\"contour\", [\"Weight\", \"MPG\"], \"CylindersxMPG\");\\ngmw.gluemanager.newView(\"errorbar\", [\"Acceleration\", \"Cylinders\"], \"CylindersxMPG\");\\ngmw.gluemanager.newView(\"composed_lines\", [\"Cylinders\", \"MPG\",\"Weight\"], \"CylindersxMPG\");\\ngmw.gluemanager.newView(\"composed_polyfit_3d\", [\"MPG\",\"Weight\"], \"CylindersxMPG\");\\ngmw.gluemanager.newView(\"scatter3D\", [\"MPG\",\"Horsepower\",\"Weight\"]);\\ngmw.gluemanager.newView(\"image\", [\"MPG\",\"Horsepower\",\"Weight\"]);'"
      ]
     },
     "execution_count": 4,
     "metadata": {},
     "output_type": "execute_result"
    }
   ],
   "source": [
    "'''gmw.gluemanager.newView(\"scatter\", [\"Cylinders\", \"MPG\"], \"CylindersxMPG\");\n",
    "gmw.gluemanager.newView(\"parallels\", [\"Acceleration\", \"Cylinders\", \"MPG\",\"Cylinders\",\"Weight\"], \"Parallel\");\n",
    "gmw.gluemanager.newView(\"table\", [\"Acceleration\", \"Cylinders\", \"MPG\",\"Cylinders\",\"Weight\"], \"Table\");\n",
    "gmw.gluemanager.newView(\"histogram\", [\"Cylinders\"], \"Cylinders\");\n",
    "gmw.gluemanager.newView(\"contour\", [\"Weight\", \"MPG\"], \"CylindersxMPG\");\n",
    "gmw.gluemanager.newView(\"errorbar\", [\"Acceleration\", \"Cylinders\"], \"CylindersxMPG\");\n",
    "gmw.gluemanager.newView(\"composed_lines\", [\"Cylinders\", \"MPG\",\"Weight\"], \"CylindersxMPG\");\n",
    "gmw.gluemanager.newView(\"composed_polyfit_3d\", [\"MPG\",\"Weight\"], \"CylindersxMPG\");\n",
    "gmw.gluemanager.newView(\"scatter3D\", [\"MPG\",\"Horsepower\",\"Weight\"]);\n",
    "gmw.gluemanager.newView(\"image\", [\"MPG\",\"Horsepower\",\"Weight\"]);'''"
   ]
  },
  {
   "cell_type": "code",
   "execution_count": 5,
   "metadata": {},
   "outputs": [
    {
     "data": {
      "text/plain": [
       "\"gmw.gluemanager.updateSelection([i+100 for i in range(100)])\\ngmw.gluemanager.createSubsetFromSelection(label='new_set')\""
      ]
     },
     "execution_count": 5,
     "metadata": {},
     "output_type": "execute_result"
    }
   ],
   "source": [
    "'''gmw.gluemanager.updateSelection([i+100 for i in range(100)])\n",
    "gmw.gluemanager.createSubsetFromSelection(label='new_set')'''"
   ]
  },
  {
   "cell_type": "code",
   "execution_count": 13,
   "metadata": {},
   "outputs": [
    {
     "data": {
      "text/html": [
       "<script type=\"text/javascript\">window.PlotlyConfig = {MathJaxConfig: 'local'};</script><script type=\"text/javascript\">if (window.MathJax) {MathJax.Hub.Config({SVG: {font: \"STIX-Web\"}});}</script><script>requirejs.config({paths: { 'plotly': ['https://cdn.plot.ly/plotly-latest.min']},});if(!window._Plotly) {require(['plotly'],function(plotly) {window._Plotly=plotly;});}</script>"
      ],
      "text/vnd.plotly.v1+html": [
       "<script type=\"text/javascript\">window.PlotlyConfig = {MathJaxConfig: 'local'};</script><script type=\"text/javascript\">if (window.MathJax) {MathJax.Hub.Config({SVG: {font: \"STIX-Web\"}});}</script><script>requirejs.config({paths: { 'plotly': ['https://cdn.plot.ly/plotly-latest.min']},});if(!window._Plotly) {require(['plotly'],function(plotly) {window._Plotly=plotly;});}</script>"
      ]
     },
     "metadata": {},
     "output_type": "display_data"
    }
   ],
   "source": [
    "a = gmw.gluemanager.newView(\"scatter\", [\"Cylinders\", \"MPG\"], \"CylindersxMPG\");"
   ]
  },
  {
   "cell_type": "code",
   "execution_count": 14,
   "metadata": {},
   "outputs": [
    {
     "data": {
      "text/plain": [
       "'294a3b1e-fe7c-4657-95ec-0412ca98ba3c'"
      ]
     },
     "execution_count": 14,
     "metadata": {},
     "output_type": "execute_result"
    }
   ],
   "source": [
    "a.window.uid"
   ]
  },
  {
   "cell_type": "code",
   "execution_count": null,
   "metadata": {},
   "outputs": [],
   "source": []
  },
  {
   "cell_type": "code",
   "execution_count": null,
   "metadata": {},
   "outputs": [],
   "source": []
  }
 ],
 "metadata": {
  "kernelspec": {
   "display_name": "Python 3",
   "language": "python",
   "name": "python3"
  },
  "language_info": {
   "codemirror_mode": {
    "name": "ipython",
    "version": 3
   },
   "file_extension": ".py",
   "mimetype": "text/x-python",
   "name": "python",
   "nbconvert_exporter": "python",
   "pygments_lexer": "ipython3",
   "version": "3.6.6"
  }
 },
 "nbformat": 4,
 "nbformat_minor": 2
}
