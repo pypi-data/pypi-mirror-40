{
 "cells": [
  {
   "cell_type": "code",
   "execution_count": 1,
   "metadata": {},
   "outputs": [],
   "source": [
    "import floatview\n",
    "import pandas as pd\n",
    "import requests\n",
    "import io"
   ]
  },
  {
   "cell_type": "code",
   "execution_count": 2,
   "metadata": {},
   "outputs": [],
   "source": [
    "url=\"https://perso.telecom-paristech.fr/eagan/class/igr204/data/cars.csv\"\n",
    "s=requests.get(url).content\n",
    "tab = pd.read_csv(io.StringIO(s.decode('utf-8')), index_col=False, sep=';', skiprows=[1])"
   ]
  },
  {
   "cell_type": "code",
   "execution_count": 3,
   "metadata": {},
   "outputs": [],
   "source": [
    "gmw = floatview.GlueManagerWidget(tab, modal=True, label=\"400Cars\")"
   ]
  },
  {
   "cell_type": "code",
   "execution_count": null,
   "metadata": {},
   "outputs": [],
   "source": []
  },
  {
   "cell_type": "code",
   "execution_count": null,
   "metadata": {},
   "outputs": [],
   "source": []
  },
  {
   "cell_type": "code",
   "execution_count": 10,
   "metadata": {},
   "outputs": [
    {
     "data": {
      "text/html": [
       "<script type=\"text/javascript\">window.PlotlyConfig = {MathJaxConfig: 'local'};</script><script type=\"text/javascript\">if (window.MathJax) {MathJax.Hub.Config({SVG: {font: \"STIX-Web\"}});}</script><script>requirejs.config({paths: { 'plotly': ['https://cdn.plot.ly/plotly-latest.min']},});if(!window._Plotly) {require(['plotly'],function(plotly) {window._Plotly=plotly;});}</script>"
      ],
      "text/vnd.plotly.v1+html": [
       "<script type=\"text/javascript\">window.PlotlyConfig = {MathJaxConfig: 'local'};</script><script type=\"text/javascript\">if (window.MathJax) {MathJax.Hub.Config({SVG: {font: \"STIX-Web\"}});}</script><script>requirejs.config({paths: { 'plotly': ['https://cdn.plot.ly/plotly-latest.min']},});if(!window._Plotly) {require(['plotly'],function(plotly) {window._Plotly=plotly;});}</script>"
      ]
     },
     "metadata": {},
     "output_type": "display_data"
    }
   ],
   "source": [
    "a = gmw.gluemanager.newView(\"scatter\", [\"Origin\", \"Cylinders\"], \"CylindersxMPG\")"
   ]
  },
  {
   "cell_type": "code",
   "execution_count": 11,
   "metadata": {},
   "outputs": [
    {
     "data": {
      "text/html": [
       "<script type=\"text/javascript\">window.PlotlyConfig = {MathJaxConfig: 'local'};</script><script type=\"text/javascript\">if (window.MathJax) {MathJax.Hub.Config({SVG: {font: \"STIX-Web\"}});}</script><script>requirejs.config({paths: { 'plotly': ['https://cdn.plot.ly/plotly-latest.min']},});if(!window._Plotly) {require(['plotly'],function(plotly) {window._Plotly=plotly;});}</script>"
      ],
      "text/vnd.plotly.v1+html": [
       "<script type=\"text/javascript\">window.PlotlyConfig = {MathJaxConfig: 'local'};</script><script type=\"text/javascript\">if (window.MathJax) {MathJax.Hub.Config({SVG: {font: \"STIX-Web\"}});}</script><script>requirejs.config({paths: { 'plotly': ['https://cdn.plot.ly/plotly-latest.min']},});if(!window._Plotly) {require(['plotly'],function(plotly) {window._Plotly=plotly;});}</script>"
      ]
     },
     "metadata": {},
     "output_type": "display_data"
    }
   ],
   "source": [
    "b = gmw.gluemanager.newView(\"scatter\", [\"Cylinders\",\"Origin\"], \"CylindersxMPG\")"
   ]
  },
  {
   "cell_type": "code",
   "execution_count": 17,
   "metadata": {},
   "outputs": [
    {
     "data": {
      "text/plain": [
       "{'_dom_classes': (),\n",
       " '_model_module': '@jupyter-widgets/jupyterlab-floatview',\n",
       " '_model_module_version': '0.1.4',\n",
       " '_model_name': 'FloatviewModel',\n",
       " '_view_count': None,\n",
       " '_view_module': '@jupyter-widgets/jupyterlab-floatview',\n",
       " '_view_module_version': '0.1.4',\n",
       " '_view_name': 'FloatviewView',\n",
       " 'layout': 'IPY_MODEL_8cdd92960ce94fcbb5081f171a673bd0',\n",
       " 'mode': '',\n",
       " 'msg_id': '',\n",
       " 'outputs': ({'output_type': 'display_data',\n",
       "   'data': {'text/plain': \"ToggleButton(value=False, description='Options', icon='cog')\",\n",
       "    'application/vnd.jupyter.widget-view+json': {'version_major': 2,\n",
       "     'version_minor': 0,\n",
       "     'model_id': 'f566fa8eaf454dd1bdee9dbb6c836be9'}},\n",
       "   'metadata': {}},\n",
       "  {'output_type': 'display_data',\n",
       "   'data': {'text/plain': \"HBox(children=(Tab(children=(Output(), Output()), layout=Layout(display='none'), _titles={'0': 'Plot', '1': 'L…\",\n",
       "    'application/vnd.jupyter.widget-view+json': {'version_major': 2,\n",
       "     'version_minor': 0,\n",
       "     'model_id': '7e37ee56ec9a4b02b71e415290eaab61'}},\n",
       "   'metadata': {}}),\n",
       " 'title': 'CylindersxMPG'}"
      ]
     },
     "execution_count": 17,
     "metadata": {},
     "output_type": "execute_result"
    }
   ],
   "source": [
    "#help()\n",
    "a.window.get_state()"
   ]
  },
  {
   "cell_type": "code",
   "execution_count": 16,
   "metadata": {},
   "outputs": [
    {
     "data": {
      "text/plain": [
       "{'_dom_classes': (),\n",
       " '_model_module': '@jupyter-widgets/jupyterlab-floatview',\n",
       " '_model_module_version': '0.1.4',\n",
       " '_model_name': 'FloatviewModel',\n",
       " '_view_count': None,\n",
       " '_view_module': '@jupyter-widgets/jupyterlab-floatview',\n",
       " '_view_module_version': '0.1.4',\n",
       " '_view_name': 'FloatviewView',\n",
       " 'layout': 'IPY_MODEL_b9f98f7a64104aa28793834c7f219da3',\n",
       " 'mode': '',\n",
       " 'msg_id': '',\n",
       " 'outputs': ({'output_type': 'display_data',\n",
       "   'data': {'text/plain': \"ToggleButton(value=False, description='Options', icon='cog')\",\n",
       "    'application/vnd.jupyter.widget-view+json': {'version_major': 2,\n",
       "     'version_minor': 0,\n",
       "     'model_id': '55f6196fc73246e6a96c8da214046e6f'}},\n",
       "   'metadata': {}},\n",
       "  {'output_type': 'display_data',\n",
       "   'data': {'text/plain': \"HBox(children=(Tab(children=(Output(), Output()), layout=Layout(display='none'), _titles={'0': 'Plot', '1': 'L…\",\n",
       "    'application/vnd.jupyter.widget-view+json': {'version_major': 2,\n",
       "     'version_minor': 0,\n",
       "     'model_id': '50d11cb11de24dae92a91d58d914bc60'}},\n",
       "   'metadata': {}}),\n",
       " 'title': 'CylindersxMPG'}"
      ]
     },
     "execution_count": 16,
     "metadata": {},
     "output_type": "execute_result"
    }
   ],
   "source": [
    "\n",
    "b.window.get_state()"
   ]
  },
  {
   "cell_type": "code",
   "execution_count": null,
   "metadata": {},
   "outputs": [],
   "source": []
  },
  {
   "cell_type": "code",
   "execution_count": null,
   "metadata": {},
   "outputs": [],
   "source": []
  },
  {
   "cell_type": "code",
   "execution_count": null,
   "metadata": {},
   "outputs": [],
   "source": []
  }
 ],
 "metadata": {
  "kernelspec": {
   "display_name": "Python 3",
   "language": "python",
   "name": "python3"
  },
  "language_info": {
   "codemirror_mode": {
    "name": "ipython",
    "version": 3
   },
   "file_extension": ".py",
   "mimetype": "text/x-python",
   "name": "python",
   "nbconvert_exporter": "python",
   "pygments_lexer": "ipython3",
   "version": "3.6.6"
  }
 },
 "nbformat": 4,
 "nbformat_minor": 2
}
