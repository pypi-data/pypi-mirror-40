{
 "cells": [
  {
   "cell_type": "markdown",
   "metadata": {},
   "source": [
    "# Advanced Model Tuning"
   ]
  },
  {
   "cell_type": "markdown",
   "metadata": {},
   "source": [
    "## Preparation\n",
    "This notebook explores additional capabilities for tuning Eureqa models added in the 2.13 release of the DataRobot API.\n",
    "\n",
    "Let's start by importing the DataRobot API.  (If you don't have it installed already, you will need to install it in order to run this notebook.)"
   ]
  },
  {
   "cell_type": "code",
   "execution_count": 1,
   "metadata": {},
   "outputs": [],
   "source": [
    "import datarobot as dr\n",
    "from datarobot.enums import AUTOPILOT_MODE"
   ]
  },
  {
   "cell_type": "markdown",
   "metadata": {},
   "source": [
    "## Set Up\n",
    "Now configure your DataRobot client (unless you're using a configuration file)..."
   ]
  },
  {
   "cell_type": "code",
   "execution_count": 2,
   "metadata": {},
   "outputs": [
    {
     "data": {
      "text/plain": [
       "<datarobot.rest.RESTClientObject at 0x112f5d890>"
      ]
     },
     "execution_count": 2,
     "metadata": {},
     "output_type": "execute_result"
    }
   ],
   "source": [
    "dr.Client(token='<API TOKEN>', endpoint='http://<YOUR ENDPOINT>/api/v2/')"
   ]
  },
  {
   "cell_type": "markdown",
   "metadata": {},
   "source": [
    "## Create Project with features\n",
    "\n",
    "Create a new project using the 10K_diabetes dataset. This dataset contains a binary classification on the target `readmitted`."
   ]
  },
  {
   "cell_type": "code",
   "execution_count": 3,
   "metadata": {},
   "outputs": [
    {
     "name": "stdout",
     "output_type": "stream",
     "text": [
      "Project ID: 5b624d97962d7442b5bdc014\n"
     ]
    }
   ],
   "source": [
    "url = 'https://s3.amazonaws.com/datarobot_public_datasets/10k_diabetes.xlsx'\n",
    "project = dr.Project.create(url, project_name='10K Advanced Modeling')\n",
    "print('Project ID: {}'.format(project.id))"
   ]
  },
  {
   "cell_type": "markdown",
   "metadata": {},
   "source": [
    "Now, let's set up the project and run Autopilot to get some models."
   ]
  },
  {
   "cell_type": "code",
   "execution_count": 4,
   "metadata": {},
   "outputs": [
    {
     "data": {
      "text/plain": [
       "Project(10K Advanced Modeling)"
      ]
     },
     "execution_count": 4,
     "metadata": {},
     "output_type": "execute_result"
    }
   ],
   "source": [
    "# Increase the worker count to make the project go faster.\n",
    "project.set_worker_count(4)"
   ]
  },
  {
   "cell_type": "code",
   "execution_count": 5,
   "metadata": {},
   "outputs": [
    {
     "data": {
      "text/plain": [
       "Project(10K Advanced Modeling)"
      ]
     },
     "execution_count": 5,
     "metadata": {},
     "output_type": "execute_result"
    }
   ],
   "source": [
    "project.set_target('readmitted', mode=AUTOPILOT_MODE.FULL_AUTO)"
   ]
  },
  {
   "cell_type": "code",
   "execution_count": 6,
   "metadata": {},
   "outputs": [
    {
     "name": "stdout",
     "output_type": "stream",
     "text": [
      "In progress: 4, queued: 36 (waited: 0s)\n",
      "In progress: 4, queued: 36 (waited: 1s)\n",
      "In progress: 4, queued: 36 (waited: 1s)\n",
      "In progress: 4, queued: 36 (waited: 2s)\n",
      "In progress: 4, queued: 36 (waited: 3s)\n",
      "In progress: 4, queued: 36 (waited: 5s)\n",
      "In progress: 4, queued: 36 (waited: 9s)\n",
      "In progress: 4, queued: 35 (waited: 16s)\n",
      "In progress: 4, queued: 35 (waited: 29s)\n",
      "In progress: 4, queued: 35 (waited: 50s)\n",
      "In progress: 4, queued: 35 (waited: 70s)\n",
      "In progress: 4, queued: 32 (waited: 91s)\n",
      "In progress: 4, queued: 31 (waited: 111s)\n",
      "In progress: 4, queued: 31 (waited: 131s)\n",
      "In progress: 4, queued: 29 (waited: 152s)\n",
      "In progress: 4, queued: 27 (waited: 172s)\n",
      "In progress: 4, queued: 27 (waited: 192s)\n",
      "In progress: 4, queued: 25 (waited: 213s)\n",
      "In progress: 4, queued: 24 (waited: 233s)\n",
      "In progress: 4, queued: 22 (waited: 254s)\n",
      "In progress: 4, queued: 21 (waited: 274s)\n",
      "In progress: 4, queued: 19 (waited: 295s)\n",
      "In progress: 4, queued: 18 (waited: 315s)\n",
      "In progress: 4, queued: 18 (waited: 335s)\n",
      "In progress: 4, queued: 16 (waited: 356s)\n",
      "In progress: 4, queued: 15 (waited: 376s)\n",
      "In progress: 4, queued: 14 (waited: 397s)\n",
      "In progress: 4, queued: 14 (waited: 417s)\n",
      "In progress: 4, queued: 13 (waited: 437s)\n",
      "In progress: 4, queued: 12 (waited: 458s)\n",
      "In progress: 4, queued: 11 (waited: 478s)\n",
      "In progress: 4, queued: 10 (waited: 499s)\n",
      "In progress: 4, queued: 9 (waited: 519s)\n",
      "In progress: 4, queued: 8 (waited: 539s)\n",
      "In progress: 4, queued: 7 (waited: 559s)\n",
      "In progress: 4, queued: 7 (waited: 580s)\n",
      "In progress: 4, queued: 7 (waited: 600s)\n",
      "In progress: 4, queued: 6 (waited: 620s)\n",
      "In progress: 4, queued: 5 (waited: 641s)\n",
      "In progress: 4, queued: 5 (waited: 661s)\n",
      "In progress: 4, queued: 5 (waited: 681s)\n",
      "In progress: 4, queued: 3 (waited: 701s)\n",
      "In progress: 4, queued: 1 (waited: 721s)\n",
      "In progress: 2, queued: 0 (waited: 742s)\n",
      "In progress: 2, queued: 0 (waited: 762s)\n",
      "In progress: 2, queued: 0 (waited: 782s)\n",
      "In progress: 4, queued: 15 (waited: 802s)\n",
      "In progress: 4, queued: 15 (waited: 823s)\n",
      "In progress: 4, queued: 15 (waited: 843s)\n",
      "In progress: 4, queued: 12 (waited: 863s)\n",
      "In progress: 4, queued: 12 (waited: 883s)\n",
      "In progress: 4, queued: 10 (waited: 904s)\n",
      "In progress: 4, queued: 9 (waited: 924s)\n",
      "In progress: 4, queued: 8 (waited: 944s)\n",
      "In progress: 4, queued: 7 (waited: 964s)\n",
      "In progress: 4, queued: 6 (waited: 985s)\n",
      "In progress: 4, queued: 5 (waited: 1005s)\n",
      "In progress: 4, queued: 5 (waited: 1025s)\n",
      "In progress: 4, queued: 4 (waited: 1045s)\n",
      "In progress: 4, queued: 3 (waited: 1066s)\n",
      "In progress: 4, queued: 2 (waited: 1086s)\n",
      "In progress: 4, queued: 0 (waited: 1106s)\n",
      "In progress: 4, queued: 0 (waited: 1127s)\n",
      "In progress: 3, queued: 0 (waited: 1147s)\n",
      "In progress: 2, queued: 0 (waited: 1167s)\n",
      "In progress: 1, queued: 0 (waited: 1187s)\n",
      "In progress: 1, queued: 0 (waited: 1207s)\n",
      "In progress: 1, queued: 0 (waited: 1227s)\n",
      "In progress: 4, queued: 7 (waited: 1248s)\n",
      "In progress: 4, queued: 7 (waited: 1268s)\n",
      "In progress: 4, queued: 7 (waited: 1288s)\n",
      "In progress: 4, queued: 7 (waited: 1309s)\n",
      "In progress: 4, queued: 5 (waited: 1329s)\n",
      "In progress: 4, queued: 4 (waited: 1349s)\n",
      "In progress: 4, queued: 3 (waited: 1370s)\n",
      "In progress: 4, queued: 1 (waited: 1390s)\n",
      "In progress: 4, queued: 1 (waited: 1410s)\n",
      "In progress: 4, queued: 0 (waited: 1431s)\n",
      "In progress: 4, queued: 0 (waited: 1451s)\n",
      "In progress: 2, queued: 0 (waited: 1471s)\n",
      "In progress: 0, queued: 0 (waited: 1491s)\n",
      "In progress: 4, queued: 28 (waited: 1511s)\n",
      "In progress: 4, queued: 25 (waited: 1532s)\n",
      "In progress: 4, queued: 25 (waited: 1552s)\n",
      "In progress: 4, queued: 23 (waited: 1572s)\n",
      "In progress: 4, queued: 21 (waited: 1593s)\n",
      "In progress: 4, queued: 21 (waited: 1614s)\n",
      "In progress: 4, queued: 21 (waited: 1634s)\n",
      "In progress: 4, queued: 20 (waited: 1655s)\n",
      "In progress: 4, queued: 20 (waited: 1675s)\n",
      "In progress: 4, queued: 20 (waited: 1695s)\n",
      "In progress: 4, queued: 18 (waited: 1716s)\n",
      "In progress: 4, queued: 17 (waited: 1736s)\n",
      "In progress: 4, queued: 13 (waited: 1756s)\n",
      "In progress: 4, queued: 11 (waited: 1776s)\n",
      "In progress: 4, queued: 9 (waited: 1797s)\n",
      "In progress: 4, queued: 7 (waited: 1817s)\n",
      "In progress: 4, queued: 3 (waited: 1838s)\n",
      "In progress: 4, queued: 2 (waited: 1858s)\n",
      "In progress: 4, queued: 0 (waited: 1878s)\n",
      "In progress: 1, queued: 0 (waited: 1898s)\n",
      "In progress: 0, queued: 0 (waited: 1918s)\n",
      "In progress: 4, queued: 1 (waited: 1939s)\n",
      "In progress: 1, queued: 0 (waited: 1959s)\n",
      "In progress: 1, queued: 0 (waited: 1979s)\n",
      "In progress: 1, queued: 0 (waited: 1999s)\n",
      "In progress: 0, queued: 1 (waited: 2019s)\n",
      "In progress: 4, queued: 0 (waited: 2039s)\n",
      "In progress: 4, queued: 0 (waited: 2060s)\n",
      "In progress: 4, queued: 0 (waited: 2080s)\n",
      "In progress: 4, queued: 0 (waited: 2100s)\n",
      "In progress: 2, queued: 0 (waited: 2120s)\n",
      "In progress: 0, queued: 0 (waited: 2140s)\n"
     ]
    }
   ],
   "source": [
    "project.wait_for_autopilot()"
   ]
  },
  {
   "cell_type": "markdown",
   "metadata": {},
   "source": [
    "For the purposes of this example, let's look at a Eureqa model."
   ]
  },
  {
   "cell_type": "code",
   "execution_count": 7,
   "metadata": {},
   "outputs": [
    {
     "data": {
      "text/plain": [
       "Model(u'Eureqa Generalized Additive Model Classifier (3000 Generations)')"
      ]
     },
     "execution_count": 7,
     "metadata": {},
     "output_type": "execute_result"
    }
   ],
   "source": [
    "models = project.get_models()\n",
    "model = [\n",
    "    m for m in models\n",
    "    if m.model_type.startswith('Eureqa Generalized Additive Model')\n",
    "][0]\n",
    "model"
   ]
  },
  {
   "cell_type": "markdown",
   "metadata": {},
   "source": [
    "Now that we have a model, we can start an advanced-tuning session based on that model."
   ]
  },
  {
   "cell_type": "code",
   "execution_count": 8,
   "metadata": {},
   "outputs": [],
   "source": [
    "tune = model.start_advanced_tuning_session()"
   ]
  },
  {
   "cell_type": "markdown",
   "metadata": {},
   "source": [
    "Each model's blueprint consists of a series of tasks.  Each task contains some number of tunable parameters.  Let's take a look at the available (tunable) tasks."
   ]
  },
  {
   "cell_type": "code",
   "execution_count": 9,
   "metadata": {},
   "outputs": [
    {
     "data": {
      "text/plain": [
       "[u'Eureqa Generalized Additive Model Classifier (3000 Generations)',\n",
       " u'Matrix of word-grams occurrences',\n",
       " u'One-Hot Encoding']"
      ]
     },
     "execution_count": 9,
     "metadata": {},
     "output_type": "execute_result"
    }
   ],
   "source": [
    "tune.get_task_names()"
   ]
  },
  {
   "cell_type": "markdown",
   "metadata": {},
   "source": [
    "Let's drill down into the main Eureqa task, to see what parameters it has available."
   ]
  },
  {
   "cell_type": "code",
   "execution_count": 10,
   "metadata": {},
   "outputs": [
    {
     "data": {
      "text/plain": [
       "[u'XGB_subsample',\n",
       " u'EUREQA_timeout_sec',\n",
       " u'EUREQA_split_mode',\n",
       " u'EUREQA_building_block__subtraction',\n",
       " u'XGB_base_margin_initialize',\n",
       " u'EUREQA_building_block__two-argument_arctangent',\n",
       " u'EUREQA_building_block__modulo',\n",
       " u'EUREQA_building_block__division',\n",
       " u'XGB_scale_pos_weight',\n",
       " u'EUREQA_building_block__arcsine',\n",
       " u'XGB_tree_method',\n",
       " u'EUREQA_building_block__round',\n",
       " u'EUREQA_building_block__power',\n",
       " u'EUREQA_building_block__logical_not',\n",
       " u'EUREQA_building_block__minimum',\n",
       " u'EUREQA_max_generations',\n",
       " u'EUREQA_building_block__ceiling',\n",
       " u'XGB_n_estimators',\n",
       " u'EUREQA_building_block__gaussian_function',\n",
       " u'EUREQA_building_block__equal-to',\n",
       " u'XGB_colsample_bytree',\n",
       " u'EUREQA_building_block__inverse_hyperbolic_cosine',\n",
       " u'EUREQA_building_block__addition',\n",
       " u'XGB_min_child_weight',\n",
       " u'XGB_smooth_interval',\n",
       " u'EUREQA_building_block__arctangent',\n",
       " u'EUREQA_building_block__cosine',\n",
       " u'EUREQA_building_block__less-than-or-equal',\n",
       " u'EUREQA_building_block__logical_and',\n",
       " u'EUREQA_experimental__max_expression_ops',\n",
       " u'EUREQA_building_block__negation',\n",
       " u'EUREQA_building_block__square_root',\n",
       " u'EUREQA_weight_expr',\n",
       " u'EUREQA_building_block__logical_xor',\n",
       " u'XGB_learning_rate',\n",
       " u'XGB_interval',\n",
       " u'XGB_max_bin',\n",
       " u'EUREQA_building_block__greater-than',\n",
       " u'XGB_num_parallel_tree',\n",
       " u'EUREQA_building_block__input_variable',\n",
       " u'XGB_missing_value',\n",
       " u'EUREQA_target_expression_string',\n",
       " u'XGB_reg_alpha',\n",
       " u'EUREQA_building_block__sine',\n",
       " u'EUREQA_building_block__sign_function',\n",
       " u'XGB_min_split_loss',\n",
       " u'EUREQA_building_block__multiplication',\n",
       " u'EUREQA_building_block__hyperbolic_cosine',\n",
       " u'EUREQA_building_block__integer_constant',\n",
       " u'EUREQA_building_block__complementary_error_function',\n",
       " u'EUREQA_building_block__exponential',\n",
       " u'EUREQA_building_block__floor',\n",
       " u'XGB_random_state',\n",
       " u'EUREQA_building_block__greater-than-or-equal',\n",
       " u'EUREQA_building_block__step_function',\n",
       " u'EUREQA_building_block__tangent',\n",
       " u'EUREQA_building_block__natural_logarithm',\n",
       " u'EUREQA_building_block__logistic_function',\n",
       " u'EUREQA_random_seed',\n",
       " u'EUREQA_building_block__constant',\n",
       " u'EUREQA_building_block__absolute_value',\n",
       " u'EUREQA_prior_solutions',\n",
       " u'EUREQA_num_threads',\n",
       " u'EUREQA_building_block__hyperbolic_tangent',\n",
       " u'EUREQA_building_block__hyperbolic_sine',\n",
       " u'XGB_reg_lambda',\n",
       " u'EUREQA_building_block__inverse_hyperbolic_sine',\n",
       " u'EUREQA_training_split_expr',\n",
       " u'XGB_max_delta_step',\n",
       " u'EUREQA_building_block__inverse_hyperbolic_tangent',\n",
       " u'EUREQA_validation_split_expr',\n",
       " u'EUREQA_building_block__if-then-else',\n",
       " u'EUREQA_training_fraction',\n",
       " u'EUREQA_building_block__less-than',\n",
       " u'XGB_max_depth',\n",
       " u'EUREQA_sync_migrations',\n",
       " u'EUREQA_error_metric',\n",
       " u'EUREQA_building_block__logical_or',\n",
       " u'EUREQA_validation_fraction',\n",
       " u'EUREQA_building_block__maximum',\n",
       " u'EUREQA_building_block__factorial',\n",
       " u'EUREQA_building_block__arccosine',\n",
       " u'XGB_colsample_bylevel',\n",
       " u'EUREQA_building_block__error_function']"
      ]
     },
     "execution_count": 10,
     "metadata": {},
     "output_type": "execute_result"
    }
   ],
   "source": [
    "task_name = 'Eureqa Generalized Additive Model Classifier (3000 Generations)'\n",
    "tune.get_parameter_names(task_name)"
   ]
  },
  {
   "cell_type": "markdown",
   "metadata": {},
   "source": [
    "Eureqa does not search for periodic relationships in the data by default.  Doing so would take time away from other types of modeling, so could reduce model quality if no periodic relationships are present.  But let's say we want to check whether Eureqa can find any strong periodic relationships in the data, by allowing it to consider models that use the mathematical <code>sine()</code> function."
   ]
  },
  {
   "cell_type": "code",
   "execution_count": 11,
   "metadata": {},
   "outputs": [],
   "source": [
    "tune.set_parameter(\n",
    "    task_name=task_name,\n",
    "    parameter_name='EUREQA_building_block__sine',\n",
    "    value=1)"
   ]
  },
  {
   "cell_type": "markdown",
   "metadata": {},
   "source": [
    "More values could be set if desired, using the same approach.\n",
    "\n",
    "Now that some parameters have been set, the tuned model can be run:"
   ]
  },
  {
   "cell_type": "code",
   "execution_count": 12,
   "metadata": {},
   "outputs": [
    {
     "data": {
      "text/plain": [
       "Model(u'Eureqa Generalized Additive Model Classifier (3000 Generations)')"
      ]
     },
     "execution_count": 12,
     "metadata": {},
     "output_type": "execute_result"
    }
   ],
   "source": [
    "job = tune.run()\n",
    "new_model = job.get_result_when_complete()\n",
    "new_model"
   ]
  },
  {
   "cell_type": "markdown",
   "metadata": {},
   "source": [
    "You now have a new model that was run using your specified Advanced Tuning parameters."
   ]
  }
 ],
 "metadata": {
  "kernelspec": {
   "display_name": "Python 2",
   "language": "python",
   "name": "python2"
  },
  "language_info": {
   "codemirror_mode": {
    "name": "ipython",
    "version": 2
   },
   "file_extension": ".py",
   "mimetype": "text/x-python",
   "name": "python",
   "nbconvert_exporter": "python",
   "pygments_lexer": "ipython2",
   "version": "2.7.10"
  }
 },
 "nbformat": 4,
 "nbformat_minor": 1
}
