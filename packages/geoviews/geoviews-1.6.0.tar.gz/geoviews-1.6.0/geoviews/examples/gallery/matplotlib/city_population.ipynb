{
 "cells": [
  {
   "cell_type": "code",
   "execution_count": null,
   "metadata": {},
   "outputs": [],
   "source": [
    "import pandas as pd\n",
    "import geoviews as gv\n",
    "import geoviews.tile_sources as gvts\n",
    "\n",
    "gv.extension('matplotlib')\n",
    "\n",
    "%output dpi=120"
   ]
  },
  {
   "cell_type": "markdown",
   "metadata": {},
   "source": [
    "## Declare data"
   ]
  },
  {
   "cell_type": "code",
   "execution_count": null,
   "metadata": {},
   "outputs": [],
   "source": [
    "cities = pd.read_csv('../../assets/cities.csv', encoding=\"ISO-8859-1\")\n",
    "\n",
    "points = gv.Points(cities, ['Longitude', 'Latitude'], ['City', 'Population', 'Country', 'Year'],\n",
    "                   group='Top 20 Cities by population in 2050').select(Year=2050).sort('Population').iloc[-20:]"
   ]
  },
  {
   "cell_type": "markdown",
   "metadata": {},
   "source": [
    "## Plot"
   ]
  },
  {
   "cell_type": "code",
   "execution_count": null,
   "metadata": {},
   "outputs": [],
   "source": [
    "(gvts.CartoMidnight.options(zoom=1) *\n",
    " points.options(\n",
    "    size_index=3, color_index=3, cmap='viridis',\n",
    "    s=0.0001, fig_size=300, global_extent=True\n",
    " ) *\n",
    " gv.Labels(points).options(\n",
    "    color='white'\n",
    " )\n",
    ")"
   ]
  }
 ],
 "metadata": {
  "kernelspec": {
   "display_name": "Python 3",
   "language": "python",
   "name": "python3"
  },
  "language_info": {
   "codemirror_mode": {
    "name": "ipython",
    "version": 3
   },
   "file_extension": ".py",
   "mimetype": "text/x-python",
   "name": "python",
   "nbconvert_exporter": "python",
   "pygments_lexer": "ipython3",
   "version": "3.6.4"
  }
 },
 "nbformat": 4,
 "nbformat_minor": 2
}
