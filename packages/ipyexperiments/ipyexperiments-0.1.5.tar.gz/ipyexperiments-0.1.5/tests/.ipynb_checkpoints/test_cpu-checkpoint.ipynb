{
 "cells": [
  {
   "cell_type": "code",
   "execution_count": 1,
   "metadata": {},
   "outputs": [],
   "source": [
    "%reload_ext autoreload\n",
    "%autoreload 2"
   ]
  },
  {
   "cell_type": "markdown",
   "metadata": {},
   "source": [
    "## Setup"
   ]
  },
  {
   "cell_type": "code",
   "execution_count": 2,
   "metadata": {},
   "outputs": [],
   "source": [
    "from math import isclose\n",
    "from ipyexperiments import IPyExperiments\n",
    "import ipyexperiments\n",
    "import re, numpy as np"
   ]
  },
  {
   "cell_type": "code",
   "execution_count": 3,
   "metadata": {},
   "outputs": [],
   "source": [
    "def consume_cpu(n): return np.ones((n, n))"
   ]
  },
  {
   "cell_type": "code",
   "execution_count": 4,
   "metadata": {},
   "outputs": [],
   "source": [
    "def check_defined(var_list, local_list): \n",
    "    for v in var_list: assert v in local_list, f\"var {v} should exist in locals()\"\n",
    "        \n",
    "def check_undefined(var_list, local_list):\n",
    "    for v in var_list: assert v not in local_list, f\"var {v} should not exist in locals()\"\n",
    "\n",
    "# --------------------------------------------------------------------- #\n",
    "# the following functions work with the captured output\n",
    "# output is captured by `%%capture output` from a cell before\n",
    "def get_consumed_size(output):\n",
    "    return float(re.findall(r'Gen: ([\\d\\.]+) MB', output)[0])\n",
    "        \n",
    "def get_reclaimed_size(output):\n",
    "    match = re.findall(r'Gen: ([\\d\\.]+) MB \\(([\\d\\.]+)%\\)', output)\n",
    "    (reclaimed_size, reclaimed_pct) = map(float, match[0])\n",
    "    return reclaimed_size, reclaimed_pct\n",
    "\n",
    "def check_reclaimed(output):\n",
    "    # basic checks\n",
    "    to_match = [r'Starting experiment', 'Finishing experiment', r\"['x1', 'x2']\", r'Gen RAM Free']\n",
    "    for s in to_match: assert re.search(s, output), f\"expecting string: {s}\"\n",
    "\n",
    "    consumed_size = get_consumed_size(output)\n",
    "    (reclaimed_size, reclaimed_pct) = get_reclaimed_size(output)\n",
    "    \n",
    "    # compare: numbers are within 2% equal\n",
    "    assert isclose(consumed_size, reclaimed_size, rel_tol=0.02), f\"Reclaimed all memory: {consumed_size} == {reclaimed_size}\"\n",
    "    assert reclaimed_pct > 99.9, \"99.9+% reclaimed\"\n",
    "\n",
    "def check_stats(output, consumed, reclaimed, available):\n",
    "    consumed_size = get_consumed_size(output)\n",
    "    (reclaimed_size, reclaimed_pct) = get_reclaimed_size(output)\n",
    "\n",
    "    # compare with stats\n",
    "    final_consumed_size_stats  = final_consumed['gen_ram']/2**20\n",
    "    final_reclaimed_size_stats = final_consumed['gen_ram']/2**20\n",
    "    # numbers are within 2% equal\n",
    "    assert isclose(final_consumed_size_stats, consumed_size, rel_tol=0.02), f\"Consumed {final_consumed_size_stats} vs reclaimed {reclaimed_size} memory\"\n",
    "    assert isclose(final_reclaimed_size_stats, reclaimed_size, rel_tol=0.02), f\"Reclaimed {final_reclaimed_size_stats} vs reclaimed {reclaimed_size} memory\""
   ]
  },
  {
   "cell_type": "code",
   "execution_count": 5,
   "metadata": {},
   "outputs": [
    {
     "data": {
      "text/plain": [
       "'test_version'"
      ]
     },
     "execution_count": 5,
     "metadata": {},
     "output_type": "execute_result"
    }
   ],
   "source": [
    "\"\"\"test_version\"\"\"\n",
    "assert ipyexperiments.__version__, \"version check\""
   ]
  },
  {
   "cell_type": "markdown",
   "metadata": {},
   "source": [
    "## Basic container test\n"
   ]
  },
  {
   "cell_type": "code",
   "execution_count": 6,
   "metadata": {},
   "outputs": [],
   "source": [
    "%%capture output\n",
    "exp1 = IPyExperiments(backend='cpu') # consume some cpu ram\n",
    "\n",
    "x1 = consume_cpu(2**12)\n",
    "x2 = consume_cpu(2**12)\n",
    "check_defined(['x1', 'x2'], locals())\n",
    "\n",
    "del exp1 # finish experiment\n",
    "check_undefined(['x1', 'x2'], locals())"
   ]
  },
  {
   "cell_type": "code",
   "execution_count": 7,
   "metadata": {},
   "outputs": [
    {
     "name": "stdout",
     "output_type": "stream",
     "text": [
      "*** Loading backend: cpu\n",
      "\n",
      "*** Starting experiment...\n",
      "\n",
      "*** Current state:\n",
      "Gen RAM Free 15.4 GB | Proc size 67.9 MB\n",
      "\n",
      "\n",
      "\n",
      "*** Finishing experiment...\n",
      "\n",
      "*** Deleting the following local variables:\n",
      "['x1', 'x2']\n",
      "\n",
      "*** RAM consumed during the experiment:\n",
      "Gen: 255.8 MB\n",
      "\n",
      "*** RAM reclaimed at the end of the experiment:\n",
      "Gen: 255.8 MB (99.99%)\n",
      "\n",
      "*** Elapsed wallclock time:\n",
      "00:00:00\n",
      "\n",
      "*** Current state:\n",
      "Gen RAM Free 15.4 GB | Proc size 67.9 MB\n",
      "\n",
      "\n",
      "\n"
     ]
    }
   ],
   "source": [
    "output = str(output)\n",
    "print(output)\n",
    "check_reclaimed(output)"
   ]
  },
  {
   "cell_type": "markdown",
   "metadata": {
    "scrolled": true
   },
   "source": [
    "## Test stats data and selective vars preservation"
   ]
  },
  {
   "cell_type": "code",
   "execution_count": 8,
   "metadata": {},
   "outputs": [],
   "source": [
    "%%capture output\n",
    "exp2 = IPyExperiments('cpu') \n",
    "x1 = consume_cpu(2**12)\n",
    "\n",
    "consumed, reclaimed, available = exp2.get_stats()\n",
    "assert consumed\n",
    "assert reclaimed\n",
    "assert available\n",
    "#print(consumed, reclaimed, available)\n",
    "\n",
    "exp2.keep_var_names('consumed', 'reclaimed', 'available')\n",
    "\n",
    "x2 = consume_cpu(2**12) \n",
    "\n",
    "consumed, reclaimed, available = exp2.get_stats()\n",
    "print(consumed, reclaimed, available)\n",
    "\n",
    "check_defined(['x1', 'x2', 'consumed', 'reclaimed', 'available'], locals())\n",
    "    \n",
    "final_consumed, final_reclaimed, final_available = exp2.finish() # finish experiment\n",
    "print(\"\\nNumerical data:\\n\", final_consumed, final_reclaimed, final_available)\n",
    "\n",
    "check_defined(['consumed', 'reclaimed', 'available'], locals())\n",
    "check_undefined(['x1', 'x2'], locals())"
   ]
  },
  {
   "cell_type": "code",
   "execution_count": 9,
   "metadata": {},
   "outputs": [
    {
     "name": "stdout",
     "output_type": "stream",
     "text": [
      "*** Loading backend: cpu\n",
      "\n",
      "*** Starting experiment...\n",
      "\n",
      "*** Current state:\n",
      "Gen RAM Free 15.4 GB | Proc size 67.9 MB\n",
      "\n",
      "\n",
      "{'gen_ram': 268435456, 'gpu_ram': 0} {'gen_ram': 0, 'gpu_ram': 0} {'gen_ram': 16312975360, 'gpu_ram': 0}\n",
      "\n",
      "*** Finishing experiment...\n",
      "\n",
      "*** Deleting the following local variables:\n",
      "['exp2', 'x1', 'x2']\n",
      "\n",
      "*** Keeping the following local variables:\n",
      "['available', 'consumed', 'reclaimed']\n",
      "\n",
      "*** RAM consumed during the experiment:\n",
      "Gen: 256.0 MB\n",
      "\n",
      "*** RAM reclaimed at the end of the experiment:\n",
      "Gen: 255.9 MB (99.98%)\n",
      "\n",
      "*** Elapsed wallclock time:\n",
      "00:00:00\n",
      "\n",
      "*** Current state:\n",
      "Gen RAM Free 15.4 GB | Proc size 67.9 MB\n",
      "\n",
      "\n",
      "\n",
      "Numerical data:\n",
      " {'gen_ram': 268435456, 'gpu_ram': 0} {'gen_ram': 268369920, 'gpu_ram': 0} {'gen_ram': 16581181440, 'gpu_ram': 0}\n",
      "\n"
     ]
    }
   ],
   "source": [
    "output = str(output)\n",
    "print(output)\n",
    "check_reclaimed(output)\n",
    "check_stats(output, consumed, reclaimed, available)"
   ]
  },
  {
   "cell_type": "markdown",
   "metadata": {},
   "source": [
    "## Using the context manager\n",
    "\n",
    "If you want to put all cells into one, you could simplify the experiment even further by using its context manager."
   ]
  },
  {
   "cell_type": "code",
   "execution_count": 10,
   "metadata": {},
   "outputs": [],
   "source": [
    "%%capture output\n",
    "with IPyExperiments('cpu'): \n",
    "    x1 = consume_cpu(2**12)\n",
    "    x2 = consume_cpu(2**12)\n",
    "    \n",
    "check_undefined(['x1', 'x2'], locals())"
   ]
  },
  {
   "cell_type": "code",
   "execution_count": 11,
   "metadata": {},
   "outputs": [
    {
     "name": "stdout",
     "output_type": "stream",
     "text": [
      "*** Loading backend: cpu\n",
      "\n",
      "*** Starting experiment...\n",
      "\n",
      "*** Current state:\n",
      "Gen RAM Free 15.4 GB | Proc size 67.9 MB\n",
      "\n",
      "\n",
      "\n",
      "*** Finishing experiment...\n",
      "\n",
      "*** Deleting the following local variables:\n",
      "['x1', 'x2']\n",
      "\n",
      "*** RAM consumed during the experiment:\n",
      "Gen: 256.0 MB\n",
      "\n",
      "*** RAM reclaimed at the end of the experiment:\n",
      "Gen: 256.0 MB (100.00%)\n",
      "\n",
      "*** Elapsed wallclock time:\n",
      "00:00:00\n",
      "\n",
      "*** Current state:\n",
      "Gen RAM Free 15.4 GB | Proc size 68.0 MB\n",
      "\n",
      "\n",
      "\n"
     ]
    }
   ],
   "source": [
    "output = str(output)\n",
    "print(output)\n",
    "check_reclaimed(output)"
   ]
  },
  {
   "cell_type": "code",
   "execution_count": 12,
   "metadata": {},
   "outputs": [],
   "source": [
    "%%capture output\n",
    "with IPyExperiments('cpu') as exp: \n",
    "    x1 = consume_cpu(2**12)\n",
    "    z = \"some data\"\n",
    "    x2 = consume_cpu(2**12)\n",
    "    exp.keep_var_names('z')\n",
    "print(z)\n",
    "check_defined(['z'], locals())\n",
    "check_undefined(['x1', 'x2'], locals())"
   ]
  },
  {
   "cell_type": "code",
   "execution_count": 13,
   "metadata": {},
   "outputs": [
    {
     "name": "stdout",
     "output_type": "stream",
     "text": [
      "*** Loading backend: cpu\n",
      "\n",
      "*** Starting experiment...\n",
      "\n",
      "*** Current state:\n",
      "Gen RAM Free 15.4 GB | Proc size 68.0 MB\n",
      "\n",
      "\n",
      "\n",
      "*** Finishing experiment...\n",
      "\n",
      "*** Deleting the following local variables:\n",
      "['exp', 'x1', 'x2']\n",
      "\n",
      "*** Keeping the following local variables:\n",
      "['z']\n",
      "\n",
      "*** RAM consumed during the experiment:\n",
      "Gen: 256.0 MB\n",
      "\n",
      "*** RAM reclaimed at the end of the experiment:\n",
      "Gen: 256.0 MB (100.00%)\n",
      "\n",
      "*** Elapsed wallclock time:\n",
      "00:00:00\n",
      "\n",
      "*** Current state:\n",
      "Gen RAM Free 15.4 GB | Proc size 68.0 MB\n",
      "\n",
      "\n",
      "some data\n",
      "\n"
     ]
    }
   ],
   "source": [
    "output = str(output)\n",
    "print(output)\n",
    "check_reclaimed(output)"
   ]
  },
  {
   "cell_type": "markdown",
   "metadata": {},
   "source": [
    "## Deleting previously defined variables\n",
    "\n",
    "Here we test that we **cannot** correctly detect and delete variables used in the scope of the experiment, but which were already defined prior to the experiment."
   ]
  },
  {
   "cell_type": "code",
   "execution_count": 14,
   "metadata": {},
   "outputs": [],
   "source": [
    "%%capture output\n",
    "x1 = 10\n",
    "x2 = 20\n",
    "with IPyExperiments('cpu'): \n",
    "    x1 = 10\n",
    "    x2 = 10000\n",
    "    x3 = consume_cpu(2**12)\n",
    "# x1 is the same value, so we can't tell the difference whether it was created before the experiment or not\n",
    "# x2 is different from previous value, but it could have been modified by some function indirectly and not used directly in the experiment\n",
    "check_defined(['x1', 'x2'], locals())\n",
    "# x3 is newly defined, so it gets deleted\n",
    "check_undefined(['x3'], locals())"
   ]
  },
  {
   "cell_type": "code",
   "execution_count": 15,
   "metadata": {},
   "outputs": [
    {
     "name": "stdout",
     "output_type": "stream",
     "text": [
      "*** Loading backend: cpu\n",
      "\n",
      "*** Starting experiment...\n",
      "\n",
      "*** Current state:\n",
      "Gen RAM Free 15.4 GB | Proc size 68.0 MB\n",
      "\n",
      "\n",
      "\n",
      "*** Finishing experiment...\n",
      "\n",
      "*** Deleting the following local variables:\n",
      "['x3']\n",
      "\n",
      "*** RAM consumed during the experiment:\n",
      "Gen: 127.9 MB\n",
      "\n",
      "*** RAM reclaimed at the end of the experiment:\n",
      "Gen: 127.9 MB (100.00%)\n",
      "\n",
      "*** Elapsed wallclock time:\n",
      "00:00:00\n",
      "\n",
      "*** Current state:\n",
      "Gen RAM Free 15.4 GB | Proc size 68.0 MB\n",
      "\n",
      "\n",
      "\n"
     ]
    }
   ],
   "source": [
    "output = str(output)\n",
    "print(output)\n",
    "check_reclaimed(output)"
   ]
  },
  {
   "cell_type": "code",
   "execution_count": null,
   "metadata": {},
   "outputs": [],
   "source": []
  },
  {
   "cell_type": "code",
   "execution_count": 16,
   "metadata": {},
   "outputs": [
    {
     "data": {
      "application/javascript": [
       "IPython.notebook.save_notebook()\n"
      ],
      "text/plain": [
       "<IPython.core.display.Javascript object>"
      ]
     },
     "metadata": {},
     "output_type": "display_data"
    }
   ],
   "source": [
    "%%javascript # prevent committing an unsaved notebook\n",
    "IPython.notebook.save_notebook()"
   ]
  }
 ],
 "metadata": {
  "hide_input": false,
  "kernelspec": {
   "display_name": "Python 3",
   "language": "python",
   "name": "python3"
  },
  "language_info": {
   "codemirror_mode": {
    "name": "ipython",
    "version": 3
   },
   "file_extension": ".py",
   "mimetype": "text/x-python",
   "name": "python",
   "nbconvert_exporter": "python",
   "pygments_lexer": "ipython3",
   "version": "3.7.1"
  },
  "toc": {
   "base_numbering": 1,
   "nav_menu": {},
   "number_sections": true,
   "sideBar": true,
   "skip_h1_title": false,
   "title_cell": "Table of Contents",
   "title_sidebar": "Contents",
   "toc_cell": false,
   "toc_position": {
    "height": "calc(100% - 180px)",
    "left": "10px",
    "top": "150px",
    "width": "285px"
   },
   "toc_section_display": true,
   "toc_window_display": true
  },
  "varInspector": {
   "cols": {
    "lenName": 16,
    "lenType": 16,
    "lenVar": 40
   },
   "kernels_config": {
    "python": {
     "delete_cmd_postfix": "",
     "delete_cmd_prefix": "del ",
     "library": "var_list.py",
     "varRefreshCmd": "print(var_dic_list())"
    },
    "r": {
     "delete_cmd_postfix": ") ",
     "delete_cmd_prefix": "rm(",
     "library": "var_list.r",
     "varRefreshCmd": "cat(var_dic_list()) "
    }
   },
   "position": {
    "height": "323px",
    "left": "956px",
    "right": "20px",
    "top": "152px",
    "width": "350px"
   },
   "types_to_exclude": [
    "module",
    "function",
    "builtin_function_or_method",
    "instance",
    "_Feature"
   ],
   "window_display": false
  }
 },
 "nbformat": 4,
 "nbformat_minor": 2
}
